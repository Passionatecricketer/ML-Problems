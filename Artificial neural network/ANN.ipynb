{
 "cells": [
  {
   "cell_type": "code",
   "execution_count": 1,
   "metadata": {},
   "outputs": [],
   "source": [
    "import pandas as pd\n",
    "import numpy as np\n",
    "import matplotlib.pyplot as plt\n",
    "%matplotlib inline\n",
    "import warnings\n",
    "warnings.filterwarnings('ignore')"
   ]
  },
  {
   "cell_type": "code",
   "execution_count": 2,
   "metadata": {},
   "outputs": [],
   "source": [
    "dataset = pd.read_csv('Churn_Modelling.csv')\n",
    "X = dataset.iloc[:, 3:13].values\n",
    "y = dataset.iloc[:, 13].values"
   ]
  },
  {
   "cell_type": "code",
   "execution_count": 6,
   "metadata": {},
   "outputs": [],
   "source": [
    "from sklearn.preprocessing import LabelEncoder, OneHotEncoder\n",
    "labelencoder_X_1 = LabelEncoder()\n",
    "X[:, 1] = labelencoder_X_1.fit_transform(X[:, 1])\n",
    "labelencoder_X_2 = LabelEncoder()\n",
    "X[:, 2] = labelencoder_X_2.fit_transform(X[:, 2])\n",
    "onehotencoder = OneHotEncoder(categorical_features = [1])\n",
    "X = onehotencoder.fit_transform(X).toarray()\n",
    "X = X[:, 1:]"
   ]
  },
  {
   "cell_type": "code",
   "execution_count": 7,
   "metadata": {},
   "outputs": [],
   "source": [
    "from sklearn.model_selection import train_test_split\n",
    "X_train, X_test, y_train, y_test = train_test_split(X, y, test_size = 0.3)"
   ]
  },
  {
   "cell_type": "code",
   "execution_count": 8,
   "metadata": {},
   "outputs": [
    {
     "data": {
      "text/plain": [
       "LogisticRegression(C=1.0, class_weight=None, dual=False, fit_intercept=True,\n",
       "          intercept_scaling=1, max_iter=100, multi_class='ovr', n_jobs=1,\n",
       "          penalty='l2', random_state=None, solver='liblinear', tol=0.0001,\n",
       "          verbose=0, warm_start=False)"
      ]
     },
     "execution_count": 8,
     "metadata": {},
     "output_type": "execute_result"
    }
   ],
   "source": [
    "logmodel = LogisticRegression()\n",
    "logmodel.fit(X_train,y_train)"
   ]
  },
  {
   "cell_type": "code",
   "execution_count": 9,
   "metadata": {},
   "outputs": [],
   "source": [
    "predictions = logmodel.predict(X_test)"
   ]
  },
  {
   "cell_type": "code",
   "execution_count": 10,
   "metadata": {},
   "outputs": [],
   "source": [
    "from sklearn.metrics import classification_report"
   ]
  },
  {
   "cell_type": "code",
   "execution_count": 11,
   "metadata": {},
   "outputs": [
    {
     "name": "stdout",
     "output_type": "stream",
     "text": [
      "             precision    recall  f1-score   support\n",
      "\n",
      "          0       0.80      1.00      0.89      2397\n",
      "          1       0.56      0.01      0.02       603\n",
      "\n",
      "avg / total       0.75      0.80      0.71      3000\n",
      "\n"
     ]
    }
   ],
   "source": [
    "print(classification_report(y_test,predictions))"
   ]
  },
  {
   "cell_type": "code",
   "execution_count": 12,
   "metadata": {},
   "outputs": [],
   "source": [
    "from sklearn.preprocessing import StandardScaler\n",
    "sc = StandardScaler()\n",
    "X_train = sc.fit_transform(X_train)\n",
    "X_test = sc.transform(X_test)\n"
   ]
  },
  {
   "cell_type": "code",
   "execution_count": 13,
   "metadata": {},
   "outputs": [
    {
     "name": "stderr",
     "output_type": "stream",
     "text": [
      "Using TensorFlow backend.\n"
     ]
    }
   ],
   "source": [
    "import keras\n",
    "from keras.models import Sequential\n",
    "from keras.layers import Dense"
   ]
  },
  {
   "cell_type": "code",
   "execution_count": 14,
   "metadata": {},
   "outputs": [],
   "source": [
    "classifier = Sequential()"
   ]
  },
  {
   "cell_type": "code",
   "execution_count": 15,
   "metadata": {},
   "outputs": [],
   "source": [
    "classifier.add(Dense(output_dim = 6, init = 'uniform', activation = 'relu', input_dim = 11))"
   ]
  },
  {
   "cell_type": "code",
   "execution_count": 16,
   "metadata": {},
   "outputs": [],
   "source": [
    "classifier.add(Dense(output_dim = 6, init = 'uniform', activation = 'relu'))\n"
   ]
  },
  {
   "cell_type": "code",
   "execution_count": 17,
   "metadata": {},
   "outputs": [],
   "source": [
    "classifier.add(Dense(output_dim = 1, init = 'uniform', activation = 'sigmoid'))"
   ]
  },
  {
   "cell_type": "code",
   "execution_count": 18,
   "metadata": {},
   "outputs": [],
   "source": [
    "classifier.compile(optimizer = 'adam', loss = 'binary_crossentropy', metrics = ['accuracy'])"
   ]
  },
  {
   "cell_type": "code",
   "execution_count": 19,
   "metadata": {},
   "outputs": [
    {
     "name": "stdout",
     "output_type": "stream",
     "text": [
      "Epoch 1/100\n",
      "7000/7000 [==============================] - 3s 444us/step - loss: 0.5062 - acc: 0.7949\n",
      "Epoch 2/100\n",
      "7000/7000 [==============================] - 1s 178us/step - loss: 0.4303 - acc: 0.7951\n",
      "Epoch 3/100\n",
      "7000/7000 [==============================] - 1s 166us/step - loss: 0.4253 - acc: 0.7951\n",
      "Epoch 4/100\n",
      "7000/7000 [==============================] - 1s 182us/step - loss: 0.4220 - acc: 0.7951\n",
      "Epoch 5/100\n",
      "7000/7000 [==============================] - 1s 173us/step - loss: 0.4186 - acc: 0.8199\n",
      "Epoch 6/100\n",
      "7000/7000 [==============================] - 1s 188us/step - loss: 0.4161 - acc: 0.8261\n",
      "Epoch 7/100\n",
      "7000/7000 [==============================] - 1s 173us/step - loss: 0.4143 - acc: 0.8280\n",
      "Epoch 8/100\n",
      "7000/7000 [==============================] - 1s 173us/step - loss: 0.4129 - acc: 0.8296\n",
      "Epoch 9/100\n",
      "7000/7000 [==============================] - 1s 174us/step - loss: 0.4113 - acc: 0.8337\n",
      "Epoch 10/100\n",
      "7000/7000 [==============================] - 1s 186us/step - loss: 0.4105 - acc: 0.8324\n",
      "Epoch 11/100\n",
      "7000/7000 [==============================] - 1s 170us/step - loss: 0.4092 - acc: 0.8334\n",
      "Epoch 12/100\n",
      "7000/7000 [==============================] - 1s 184us/step - loss: 0.4082 - acc: 0.8337\n",
      "Epoch 13/100\n",
      "7000/7000 [==============================] - 1s 210us/step - loss: 0.4077 - acc: 0.8331\n",
      "Epoch 14/100\n",
      "7000/7000 [==============================] - ETA: 0s - loss: 0.4073 - acc: 0.833 - 1s 198us/step - loss: 0.4069 - acc: 0.8334\n",
      "Epoch 15/100\n",
      "7000/7000 [==============================] - 1s 166us/step - loss: 0.4062 - acc: 0.8336\n",
      "Epoch 16/100\n",
      "7000/7000 [==============================] - 1s 170us/step - loss: 0.4058 - acc: 0.8336\n",
      "Epoch 17/100\n",
      "7000/7000 [==============================] - 2s 224us/step - loss: 0.4052 - acc: 0.8330\n",
      "Epoch 18/100\n",
      "7000/7000 [==============================] - 2s 246us/step - loss: 0.4044 - acc: 0.8347\n",
      "Epoch 19/100\n",
      "7000/7000 [==============================] - 1s 189us/step - loss: 0.4041 - acc: 0.8327\n",
      "Epoch 20/100\n",
      "7000/7000 [==============================] - 1s 204us/step - loss: 0.4035 - acc: 0.8357\n",
      "Epoch 21/100\n",
      "7000/7000 [==============================] - 1s 189us/step - loss: 0.4031 - acc: 0.8350\n",
      "Epoch 22/100\n",
      "7000/7000 [==============================] - 1s 177us/step - loss: 0.4030 - acc: 0.8337\n",
      "Epoch 23/100\n",
      "7000/7000 [==============================] - 1s 184us/step - loss: 0.4029 - acc: 0.8337 1s - loss: \n",
      "Epoch 24/100\n",
      "7000/7000 [==============================] - 1s 178us/step - loss: 0.4024 - acc: 0.8354\n",
      "Epoch 25/100\n",
      "7000/7000 [==============================] - 1s 182us/step - loss: 0.4017 - acc: 0.8346\n",
      "Epoch 26/100\n",
      "7000/7000 [==============================] - 1s 171us/step - loss: 0.4016 - acc: 0.8339\n",
      "Epoch 27/100\n",
      "7000/7000 [==============================] - 1s 178us/step - loss: 0.4017 - acc: 0.8344\n",
      "Epoch 28/100\n",
      "7000/7000 [==============================] - 1s 176us/step - loss: 0.4015 - acc: 0.8351\n",
      "Epoch 29/100\n",
      "7000/7000 [==============================] - 1s 176us/step - loss: 0.4011 - acc: 0.8344\n",
      "Epoch 30/100\n",
      "7000/7000 [==============================] - 1s 173us/step - loss: 0.4010 - acc: 0.8344\n",
      "Epoch 31/100\n",
      "7000/7000 [==============================] - 1s 174us/step - loss: 0.4008 - acc: 0.8353\n",
      "Epoch 32/100\n",
      "7000/7000 [==============================] - 1s 172us/step - loss: 0.4006 - acc: 0.8361\n",
      "Epoch 33/100\n",
      "7000/7000 [==============================] - 1s 176us/step - loss: 0.4002 - acc: 0.8346\n",
      "Epoch 34/100\n",
      "7000/7000 [==============================] - 1s 171us/step - loss: 0.4004 - acc: 0.8343\n",
      "Epoch 35/100\n",
      "7000/7000 [==============================] - 1s 173us/step - loss: 0.4004 - acc: 0.8361\n",
      "Epoch 36/100\n",
      "7000/7000 [==============================] - 1s 194us/step - loss: 0.4001 - acc: 0.8354\n",
      "Epoch 37/100\n",
      "7000/7000 [==============================] - 1s 177us/step - loss: 0.4000 - acc: 0.8359\n",
      "Epoch 38/100\n",
      "7000/7000 [==============================] - 1s 174us/step - loss: 0.3999 - acc: 0.8357\n",
      "Epoch 39/100\n",
      "7000/7000 [==============================] - 1s 175us/step - loss: 0.3998 - acc: 0.8350\n",
      "Epoch 40/100\n",
      "7000/7000 [==============================] - 1s 171us/step - loss: 0.3998 - acc: 0.8356\n",
      "Epoch 41/100\n",
      "7000/7000 [==============================] - 1s 174us/step - loss: 0.3997 - acc: 0.8359\n",
      "Epoch 42/100\n",
      "7000/7000 [==============================] - 1s 177us/step - loss: 0.3995 - acc: 0.8343\n",
      "Epoch 43/100\n",
      "7000/7000 [==============================] - 1s 172us/step - loss: 0.3993 - acc: 0.8347\n",
      "Epoch 44/100\n",
      "7000/7000 [==============================] - 1s 173us/step - loss: 0.3995 - acc: 0.8356\n",
      "Epoch 45/100\n",
      "7000/7000 [==============================] - 1s 176us/step - loss: 0.3998 - acc: 0.8341\n",
      "Epoch 46/100\n",
      "7000/7000 [==============================] - 1s 177us/step - loss: 0.3985 - acc: 0.8363\n",
      "Epoch 47/100\n",
      "7000/7000 [==============================] - 1s 175us/step - loss: 0.3993 - acc: 0.8343\n",
      "Epoch 48/100\n",
      "7000/7000 [==============================] - 1s 178us/step - loss: 0.3982 - acc: 0.8339\n",
      "Epoch 49/100\n",
      "7000/7000 [==============================] - 1s 172us/step - loss: 0.3981 - acc: 0.8340\n",
      "Epoch 50/100\n",
      "7000/7000 [==============================] - 1s 192us/step - loss: 0.3978 - acc: 0.8341\n",
      "Epoch 51/100\n",
      "7000/7000 [==============================] - 1s 173us/step - loss: 0.3977 - acc: 0.8351\n",
      "Epoch 52/100\n",
      "7000/7000 [==============================] - 1s 173us/step - loss: 0.3974 - acc: 0.8349\n",
      "Epoch 53/100\n",
      "7000/7000 [==============================] - 1s 189us/step - loss: 0.3972 - acc: 0.8343\n",
      "Epoch 54/100\n",
      "7000/7000 [==============================] - 1s 176us/step - loss: 0.3967 - acc: 0.8354\n",
      "Epoch 55/100\n",
      "7000/7000 [==============================] - 1s 175us/step - loss: 0.3963 - acc: 0.8347\n",
      "Epoch 56/100\n",
      "7000/7000 [==============================] - 1s 174us/step - loss: 0.3962 - acc: 0.8369\n",
      "Epoch 57/100\n",
      "7000/7000 [==============================] - 1s 173us/step - loss: 0.3955 - acc: 0.8351\n",
      "Epoch 58/100\n",
      "7000/7000 [==============================] - 1s 177us/step - loss: 0.3956 - acc: 0.8336\n",
      "Epoch 59/100\n",
      "7000/7000 [==============================] - 1s 177us/step - loss: 0.3950 - acc: 0.8369\n",
      "Epoch 60/100\n",
      "7000/7000 [==============================] - 1s 172us/step - loss: 0.3954 - acc: 0.8344\n",
      "Epoch 61/100\n",
      "7000/7000 [==============================] - 1s 176us/step - loss: 0.3949 - acc: 0.8360\n",
      "Epoch 62/100\n",
      "7000/7000 [==============================] - 1s 180us/step - loss: 0.3943 - acc: 0.8346\n",
      "Epoch 63/100\n",
      "7000/7000 [==============================] - 1s 174us/step - loss: 0.3946 - acc: 0.8357\n",
      "Epoch 64/100\n",
      "7000/7000 [==============================] - 1s 176us/step - loss: 0.3946 - acc: 0.8343\n",
      "Epoch 65/100\n",
      "7000/7000 [==============================] - 1s 171us/step - loss: 0.3943 - acc: 0.8351\n",
      "Epoch 66/100\n",
      "7000/7000 [==============================] - 1s 175us/step - loss: 0.3945 - acc: 0.8346\n",
      "Epoch 67/100\n",
      "7000/7000 [==============================] - 1s 174us/step - loss: 0.3937 - acc: 0.8370\n",
      "Epoch 68/100\n",
      "7000/7000 [==============================] - 1s 168us/step - loss: 0.3936 - acc: 0.8363\n",
      "Epoch 69/100\n",
      "7000/7000 [==============================] - 1s 173us/step - loss: 0.3938 - acc: 0.8363\n",
      "Epoch 70/100\n",
      "7000/7000 [==============================] - 1s 190us/step - loss: 0.3935 - acc: 0.8363\n",
      "Epoch 71/100\n",
      "7000/7000 [==============================] - 1s 172us/step - loss: 0.3933 - acc: 0.8367\n",
      "Epoch 72/100\n",
      "7000/7000 [==============================] - 1s 175us/step - loss: 0.3937 - acc: 0.8346\n",
      "Epoch 73/100\n",
      "7000/7000 [==============================] - 1s 170us/step - loss: 0.3932 - acc: 0.8359\n",
      "Epoch 74/100\n",
      "7000/7000 [==============================] - 1s 176us/step - loss: 0.3927 - acc: 0.8354\n",
      "Epoch 75/100\n",
      "7000/7000 [==============================] - 1s 176us/step - loss: 0.3932 - acc: 0.8364\n",
      "Epoch 76/100\n",
      "7000/7000 [==============================] - 1s 169us/step - loss: 0.3930 - acc: 0.8356\n",
      "Epoch 77/100\n",
      "7000/7000 [==============================] - 1s 169us/step - loss: 0.3931 - acc: 0.8356\n",
      "Epoch 78/100\n",
      "7000/7000 [==============================] - 1s 168us/step - loss: 0.3928 - acc: 0.8357\n",
      "Epoch 79/100\n",
      "7000/7000 [==============================] - 1s 177us/step - loss: 0.3926 - acc: 0.8369\n",
      "Epoch 80/100\n",
      "7000/7000 [==============================] - 1s 174us/step - loss: 0.3928 - acc: 0.8357\n",
      "Epoch 81/100\n"
     ]
    },
    {
     "name": "stdout",
     "output_type": "stream",
     "text": [
      "7000/7000 [==============================] - 1s 176us/step - loss: 0.3925 - acc: 0.8364\n",
      "Epoch 82/100\n",
      "7000/7000 [==============================] - 1s 175us/step - loss: 0.3925 - acc: 0.8380\n",
      "Epoch 83/100\n",
      "7000/7000 [==============================] - 1s 175us/step - loss: 0.3927 - acc: 0.8366\n",
      "Epoch 84/100\n",
      "7000/7000 [==============================] - 1s 169us/step - loss: 0.3922 - acc: 0.8376\n",
      "Epoch 85/100\n",
      "7000/7000 [==============================] - 1s 170us/step - loss: 0.3921 - acc: 0.8373\n",
      "Epoch 86/100\n",
      "7000/7000 [==============================] - 1s 190us/step - loss: 0.3917 - acc: 0.8379\n",
      "Epoch 87/100\n",
      "7000/7000 [==============================] - 1s 177us/step - loss: 0.3920 - acc: 0.8360\n",
      "Epoch 88/100\n",
      "7000/7000 [==============================] - 1s 170us/step - loss: 0.3917 - acc: 0.8363\n",
      "Epoch 89/100\n",
      "7000/7000 [==============================] - 1s 171us/step - loss: 0.3912 - acc: 0.8369\n",
      "Epoch 90/100\n",
      "7000/7000 [==============================] - 1s 171us/step - loss: 0.3917 - acc: 0.8391\n",
      "Epoch 91/100\n",
      "7000/7000 [==============================] - 1s 174us/step - loss: 0.3918 - acc: 0.8361\n",
      "Epoch 92/100\n",
      "7000/7000 [==============================] - 1s 175us/step - loss: 0.3913 - acc: 0.8349\n",
      "Epoch 93/100\n",
      "7000/7000 [==============================] - 1s 175us/step - loss: 0.3916 - acc: 0.8357\n",
      "Epoch 94/100\n",
      "7000/7000 [==============================] - 1s 171us/step - loss: 0.3919 - acc: 0.8357\n",
      "Epoch 95/100\n",
      "7000/7000 [==============================] - 1s 170us/step - loss: 0.3908 - acc: 0.8361\n",
      "Epoch 96/100\n",
      "7000/7000 [==============================] - 1s 178us/step - loss: 0.3915 - acc: 0.8359\n",
      "Epoch 97/100\n",
      "7000/7000 [==============================] - 1s 183us/step - loss: 0.3908 - acc: 0.8377\n",
      "Epoch 98/100\n",
      "7000/7000 [==============================] - 1s 178us/step - loss: 0.3915 - acc: 0.8356\n",
      "Epoch 99/100\n",
      "7000/7000 [==============================] - 1s 173us/step - loss: 0.3912 - acc: 0.8356\n",
      "Epoch 100/100\n",
      "7000/7000 [==============================] - 1s 183us/step - loss: 0.3906 - acc: 0.8373\n"
     ]
    },
    {
     "data": {
      "text/plain": [
       "<keras.callbacks.History at 0xfec6ba8>"
      ]
     },
     "execution_count": 19,
     "metadata": {},
     "output_type": "execute_result"
    }
   ],
   "source": [
    "classifier.fit(X_train, y_train, batch_size = 10, nb_epoch = 100)"
   ]
  },
  {
   "cell_type": "code",
   "execution_count": 20,
   "metadata": {},
   "outputs": [],
   "source": [
    "y_pred = classifier.predict(X_test)\n",
    "y_pred = (y_pred > 0.5)\n"
   ]
  },
  {
   "cell_type": "code",
   "execution_count": 21,
   "metadata": {},
   "outputs": [],
   "source": [
    "from sklearn.metrics import confusion_matrix\n",
    "cm = confusion_matrix(y_test, y_pred)"
   ]
  },
  {
   "cell_type": "code",
   "execution_count": 22,
   "metadata": {},
   "outputs": [
    {
     "data": {
      "text/plain": [
       "array([[2322,   75],\n",
       "       [ 403,  200]], dtype=int64)"
      ]
     },
     "execution_count": 22,
     "metadata": {},
     "output_type": "execute_result"
    }
   ],
   "source": [
    "cm"
   ]
  },
  {
   "cell_type": "code",
   "execution_count": 24,
   "metadata": {},
   "outputs": [
    {
     "name": "stdout",
     "output_type": "stream",
     "text": [
      "             precision    recall  f1-score   support\n",
      "\n",
      "          0       0.85      0.97      0.91      2397\n",
      "          1       0.73      0.33      0.46       603\n",
      "\n",
      "avg / total       0.83      0.84      0.82      3000\n",
      "\n"
     ]
    }
   ],
   "source": [
    "print(classification_report(y_test,y_pred))"
   ]
  },
  {
   "cell_type": "code",
   "execution_count": null,
   "metadata": {},
   "outputs": [],
   "source": []
  }
 ],
 "metadata": {
  "kernelspec": {
   "display_name": "Python 3",
   "language": "python",
   "name": "python3"
  },
  "language_info": {
   "codemirror_mode": {
    "name": "ipython",
    "version": 3
   },
   "file_extension": ".py",
   "mimetype": "text/x-python",
   "name": "python",
   "nbconvert_exporter": "python",
   "pygments_lexer": "ipython3",
   "version": "3.6.5"
  }
 },
 "nbformat": 4,
 "nbformat_minor": 2
}
