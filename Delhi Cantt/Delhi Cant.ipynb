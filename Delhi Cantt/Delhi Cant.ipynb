{
 "cells": [
  {
   "cell_type": "code",
   "execution_count": 1,
   "metadata": {},
   "outputs": [],
   "source": [
    "import pandas as pd\n",
    "import numpy as np\n",
    "import seaborn as sns\n",
    "import matplotlib.pyplot as plt\n",
    "%matplotlib inline\n",
    "import warnings\n",
    "warnings.filterwarnings('ignore')"
   ]
  },
  {
   "cell_type": "code",
   "execution_count": 2,
   "metadata": {},
   "outputs": [
    {
     "data": {
      "text/html": [
       "<div>\n",
       "<style scoped>\n",
       "    .dataframe tbody tr th:only-of-type {\n",
       "        vertical-align: middle;\n",
       "    }\n",
       "\n",
       "    .dataframe tbody tr th {\n",
       "        vertical-align: top;\n",
       "    }\n",
       "\n",
       "    .dataframe thead th {\n",
       "        text-align: right;\n",
       "    }\n",
       "</style>\n",
       "<table border=\"1\" class=\"dataframe\">\n",
       "  <thead>\n",
       "    <tr style=\"text-align: right;\">\n",
       "      <th></th>\n",
       "      <th>Name</th>\n",
       "      <th>Guardian</th>\n",
       "      <th>Gender</th>\n",
       "      <th>G_Relation</th>\n",
       "      <th>H. No.</th>\n",
       "      <th>Age</th>\n",
       "      <th>File Name</th>\n",
       "      <th>Ward Number</th>\n",
       "      <th>Page Number</th>\n",
       "      <th>Image Number</th>\n",
       "    </tr>\n",
       "  </thead>\n",
       "  <tbody>\n",
       "    <tr>\n",
       "      <th>0</th>\n",
       "      <td>Pooja</td>\n",
       "      <td>Lalit Ram</td>\n",
       "      <td>F</td>\n",
       "      <td>F</td>\n",
       "      <td>NaN</td>\n",
       "      <td>20</td>\n",
       "      <td>380001-03.jpg1</td>\n",
       "      <td>380001</td>\n",
       "      <td>3</td>\n",
       "      <td>1</td>\n",
       "    </tr>\n",
       "    <tr>\n",
       "      <th>1</th>\n",
       "      <td>Rupesh Sharma</td>\n",
       "      <td>Kanbaiya Lal Shamma</td>\n",
       "      <td>M</td>\n",
       "      <td>F</td>\n",
       "      <td>71/1</td>\n",
       "      <td>38</td>\n",
       "      <td>380001-03.jpg2</td>\n",
       "      <td>380001</td>\n",
       "      <td>3</td>\n",
       "      <td>2</td>\n",
       "    </tr>\n",
       "    <tr>\n",
       "      <th>2</th>\n",
       "      <td>Radha</td>\n",
       "      <td>Sanfay</td>\n",
       "      <td>F</td>\n",
       "      <td>H</td>\n",
       "      <td>736</td>\n",
       "      <td>29</td>\n",
       "      <td>380001-03.jpg3</td>\n",
       "      <td>380001</td>\n",
       "      <td>3</td>\n",
       "      <td>3</td>\n",
       "    </tr>\n",
       "    <tr>\n",
       "      <th>3</th>\n",
       "      <td>Sugam Yadav</td>\n",
       "      <td>Roop Singh</td>\n",
       "      <td>M</td>\n",
       "      <td>F</td>\n",
       "      <td>72/6</td>\n",
       "      <td>27</td>\n",
       "      <td>380001-03.jpg4</td>\n",
       "      <td>380001</td>\n",
       "      <td>3</td>\n",
       "      <td>4</td>\n",
       "    </tr>\n",
       "    <tr>\n",
       "      <th>4</th>\n",
       "      <td>Prithvi Raj</td>\n",
       "      <td>Jathu Ram</td>\n",
       "      <td>M</td>\n",
       "      <td>F</td>\n",
       "      <td>72(10</td>\n",
       "      <td>33</td>\n",
       "      <td>380001-03.jpg5</td>\n",
       "      <td>380001</td>\n",
       "      <td>3</td>\n",
       "      <td>5</td>\n",
       "    </tr>\n",
       "  </tbody>\n",
       "</table>\n",
       "</div>"
      ],
      "text/plain": [
       "            Name             Guardian Gender G_Relation H. No.  Age  \\\n",
       "0          Pooja            Lalit Ram      F          F    NaN   20   \n",
       "1  Rupesh Sharma  Kanbaiya Lal Shamma      M          F   71/1   38   \n",
       "2          Radha               Sanfay      F          H    736   29   \n",
       "3    Sugam Yadav           Roop Singh      M          F   72/6   27   \n",
       "4    Prithvi Raj            Jathu Ram      M          F  72(10   33   \n",
       "\n",
       "        File Name  Ward Number  Page Number  Image Number  \n",
       "0  380001-03.jpg1       380001            3             1  \n",
       "1  380001-03.jpg2       380001            3             2  \n",
       "2  380001-03.jpg3       380001            3             3  \n",
       "3  380001-03.jpg4       380001            3             4  \n",
       "4  380001-03.jpg5       380001            3             5  "
      ]
     },
     "execution_count": 2,
     "metadata": {},
     "output_type": "execute_result"
    }
   ],
   "source": [
    "df=pd.read_excel(\"Delhi Cant.xlsx\")\n",
    "df.head()"
   ]
  },
  {
   "cell_type": "code",
   "execution_count": 3,
   "metadata": {},
   "outputs": [
    {
     "name": "stdout",
     "output_type": "stream",
     "text": [
      "<class 'pandas.core.frame.DataFrame'>\n",
      "RangeIndex: 111660 entries, 0 to 111659\n",
      "Data columns (total 10 columns):\n",
      "Name            109202 non-null object\n",
      "Guardian        111527 non-null object\n",
      "Gender          111660 non-null object\n",
      "G_Relation      111031 non-null object\n",
      "H. No.          110524 non-null object\n",
      "Age             111660 non-null int64\n",
      "File Name       111660 non-null object\n",
      "Ward Number     111660 non-null int64\n",
      "Page Number     111660 non-null int64\n",
      "Image Number    111660 non-null int64\n",
      "dtypes: int64(4), object(6)\n",
      "memory usage: 8.5+ MB\n"
     ]
    }
   ],
   "source": [
    "df.info()"
   ]
  },
  {
   "cell_type": "code",
   "execution_count": 4,
   "metadata": {},
   "outputs": [
    {
     "data": {
      "text/html": [
       "<div>\n",
       "<style scoped>\n",
       "    .dataframe tbody tr th:only-of-type {\n",
       "        vertical-align: middle;\n",
       "    }\n",
       "\n",
       "    .dataframe tbody tr th {\n",
       "        vertical-align: top;\n",
       "    }\n",
       "\n",
       "    .dataframe thead th {\n",
       "        text-align: right;\n",
       "    }\n",
       "</style>\n",
       "<table border=\"1\" class=\"dataframe\">\n",
       "  <thead>\n",
       "    <tr style=\"text-align: right;\">\n",
       "      <th></th>\n",
       "      <th>Age</th>\n",
       "      <th>Ward Number</th>\n",
       "      <th>Page Number</th>\n",
       "      <th>Image Number</th>\n",
       "    </tr>\n",
       "  </thead>\n",
       "  <tbody>\n",
       "    <tr>\n",
       "      <th>count</th>\n",
       "      <td>111660.000000</td>\n",
       "      <td>111660.000000</td>\n",
       "      <td>111660.000000</td>\n",
       "      <td>111660.000000</td>\n",
       "    </tr>\n",
       "    <tr>\n",
       "      <th>mean</th>\n",
       "      <td>40.143418</td>\n",
       "      <td>380056.415010</td>\n",
       "      <td>21.658741</td>\n",
       "      <td>14.998289</td>\n",
       "    </tr>\n",
       "    <tr>\n",
       "      <th>std</th>\n",
       "      <td>12.522231</td>\n",
       "      <td>33.206274</td>\n",
       "      <td>12.014283</td>\n",
       "      <td>8.648932</td>\n",
       "    </tr>\n",
       "    <tr>\n",
       "      <th>min</th>\n",
       "      <td>5.000000</td>\n",
       "      <td>380001.000000</td>\n",
       "      <td>3.000000</td>\n",
       "      <td>1.000000</td>\n",
       "    </tr>\n",
       "    <tr>\n",
       "      <th>25%</th>\n",
       "      <td>30.000000</td>\n",
       "      <td>380027.000000</td>\n",
       "      <td>12.000000</td>\n",
       "      <td>7.000000</td>\n",
       "    </tr>\n",
       "    <tr>\n",
       "      <th>50%</th>\n",
       "      <td>39.000000</td>\n",
       "      <td>380056.000000</td>\n",
       "      <td>21.000000</td>\n",
       "      <td>15.000000</td>\n",
       "    </tr>\n",
       "    <tr>\n",
       "      <th>75%</th>\n",
       "      <td>49.000000</td>\n",
       "      <td>380085.000000</td>\n",
       "      <td>31.000000</td>\n",
       "      <td>22.000000</td>\n",
       "    </tr>\n",
       "    <tr>\n",
       "      <th>max</th>\n",
       "      <td>100.000000</td>\n",
       "      <td>380114.000000</td>\n",
       "      <td>62.000000</td>\n",
       "      <td>30.000000</td>\n",
       "    </tr>\n",
       "  </tbody>\n",
       "</table>\n",
       "</div>"
      ],
      "text/plain": [
       "                 Age    Ward Number    Page Number   Image Number\n",
       "count  111660.000000  111660.000000  111660.000000  111660.000000\n",
       "mean       40.143418  380056.415010      21.658741      14.998289\n",
       "std        12.522231      33.206274      12.014283       8.648932\n",
       "min         5.000000  380001.000000       3.000000       1.000000\n",
       "25%        30.000000  380027.000000      12.000000       7.000000\n",
       "50%        39.000000  380056.000000      21.000000      15.000000\n",
       "75%        49.000000  380085.000000      31.000000      22.000000\n",
       "max       100.000000  380114.000000      62.000000      30.000000"
      ]
     },
     "execution_count": 4,
     "metadata": {},
     "output_type": "execute_result"
    }
   ],
   "source": [
    "df.describe()"
   ]
  },
  {
   "cell_type": "code",
   "execution_count": 13,
   "metadata": {},
   "outputs": [],
   "source": [
    "df=df.drop(1265)"
   ]
  },
  {
   "cell_type": "code",
   "execution_count": 14,
   "metadata": {},
   "outputs": [
    {
     "name": "stdout",
     "output_type": "stream",
     "text": [
      "<class 'pandas.core.frame.DataFrame'>\n",
      "Int64Index: 111659 entries, 0 to 111659\n",
      "Data columns (total 10 columns):\n",
      "Name            109201 non-null object\n",
      "Guardian        111526 non-null object\n",
      "Gender          111659 non-null object\n",
      "G_Relation      111030 non-null object\n",
      "H. No.          110523 non-null object\n",
      "Age             111659 non-null int64\n",
      "File Name       111659 non-null object\n",
      "Ward Number     111659 non-null int64\n",
      "Page Number     111659 non-null int64\n",
      "Image Number    111659 non-null int64\n",
      "dtypes: int64(4), object(6)\n",
      "memory usage: 9.4+ MB\n"
     ]
    }
   ],
   "source": [
    "df.info()"
   ]
  },
  {
   "cell_type": "code",
   "execution_count": 15,
   "metadata": {},
   "outputs": [
    {
     "data": {
      "text/plain": [
       "Name            2458\n",
       "Guardian         133\n",
       "Gender             0\n",
       "G_Relation       629\n",
       "H. No.          1136\n",
       "Age                0\n",
       "File Name          0\n",
       "Ward Number        0\n",
       "Page Number        0\n",
       "Image Number       0\n",
       "dtype: int64"
      ]
     },
     "execution_count": 15,
     "metadata": {},
     "output_type": "execute_result"
    }
   ],
   "source": [
    "df.isnull().sum()"
   ]
  },
  {
   "cell_type": "code",
   "execution_count": 16,
   "metadata": {},
   "outputs": [],
   "source": [
    "df=df.fillna(0)"
   ]
  },
  {
   "cell_type": "code",
   "execution_count": 18,
   "metadata": {},
   "outputs": [
    {
     "data": {
      "text/plain": [
       "Name            0\n",
       "Guardian        0\n",
       "Gender          0\n",
       "G_Relation      0\n",
       "H. No.          0\n",
       "Age             0\n",
       "File Name       0\n",
       "Ward Number     0\n",
       "Page Number     0\n",
       "Image Number    0\n",
       "dtype: int64"
      ]
     },
     "execution_count": 18,
     "metadata": {},
     "output_type": "execute_result"
    }
   ],
   "source": [
    "df.isnull().sum()"
   ]
  },
  {
   "cell_type": "code",
   "execution_count": 19,
   "metadata": {},
   "outputs": [
    {
     "data": {
      "text/html": [
       "<div>\n",
       "<style scoped>\n",
       "    .dataframe tbody tr th:only-of-type {\n",
       "        vertical-align: middle;\n",
       "    }\n",
       "\n",
       "    .dataframe tbody tr th {\n",
       "        vertical-align: top;\n",
       "    }\n",
       "\n",
       "    .dataframe thead th {\n",
       "        text-align: right;\n",
       "    }\n",
       "</style>\n",
       "<table border=\"1\" class=\"dataframe\">\n",
       "  <thead>\n",
       "    <tr style=\"text-align: right;\">\n",
       "      <th></th>\n",
       "      <th></th>\n",
       "      <th>Name</th>\n",
       "      <th>Guardian</th>\n",
       "      <th>G_Relation</th>\n",
       "      <th>H. No.</th>\n",
       "      <th>Age</th>\n",
       "      <th>File Name</th>\n",
       "      <th>Ward Number</th>\n",
       "      <th>Page Number</th>\n",
       "      <th>Image Number</th>\n",
       "    </tr>\n",
       "    <tr>\n",
       "      <th>Age</th>\n",
       "      <th>Gender</th>\n",
       "      <th></th>\n",
       "      <th></th>\n",
       "      <th></th>\n",
       "      <th></th>\n",
       "      <th></th>\n",
       "      <th></th>\n",
       "      <th></th>\n",
       "      <th></th>\n",
       "      <th></th>\n",
       "    </tr>\n",
       "  </thead>\n",
       "  <tbody>\n",
       "    <tr>\n",
       "      <th rowspan=\"2\" valign=\"top\">False</th>\n",
       "      <th>F</th>\n",
       "      <td>38987</td>\n",
       "      <td>38987</td>\n",
       "      <td>38987</td>\n",
       "      <td>38987</td>\n",
       "      <td>38987</td>\n",
       "      <td>38987</td>\n",
       "      <td>38987</td>\n",
       "      <td>38987</td>\n",
       "      <td>38987</td>\n",
       "    </tr>\n",
       "    <tr>\n",
       "      <th>M</th>\n",
       "      <td>44331</td>\n",
       "      <td>44331</td>\n",
       "      <td>44331</td>\n",
       "      <td>44331</td>\n",
       "      <td>44331</td>\n",
       "      <td>44331</td>\n",
       "      <td>44331</td>\n",
       "      <td>44331</td>\n",
       "      <td>44331</td>\n",
       "    </tr>\n",
       "    <tr>\n",
       "      <th rowspan=\"2\" valign=\"top\">True</th>\n",
       "      <th>F</th>\n",
       "      <td>13031</td>\n",
       "      <td>13031</td>\n",
       "      <td>13031</td>\n",
       "      <td>13031</td>\n",
       "      <td>13031</td>\n",
       "      <td>13031</td>\n",
       "      <td>13031</td>\n",
       "      <td>13031</td>\n",
       "      <td>13031</td>\n",
       "    </tr>\n",
       "    <tr>\n",
       "      <th>M</th>\n",
       "      <td>15310</td>\n",
       "      <td>15310</td>\n",
       "      <td>15310</td>\n",
       "      <td>15310</td>\n",
       "      <td>15310</td>\n",
       "      <td>15310</td>\n",
       "      <td>15310</td>\n",
       "      <td>15310</td>\n",
       "      <td>15310</td>\n",
       "    </tr>\n",
       "  </tbody>\n",
       "</table>\n",
       "</div>"
      ],
      "text/plain": [
       "               Name  Guardian  G_Relation  H. No.    Age  File Name  \\\n",
       "Age   Gender                                                          \n",
       "False F       38987     38987       38987   38987  38987      38987   \n",
       "      M       44331     44331       44331   44331  44331      44331   \n",
       "True  F       13031     13031       13031   13031  13031      13031   \n",
       "      M       15310     15310       15310   15310  15310      15310   \n",
       "\n",
       "              Ward Number  Page Number  Image Number  \n",
       "Age   Gender                                          \n",
       "False F             38987        38987         38987  \n",
       "      M             44331        44331         44331  \n",
       "True  F             13031        13031         13031  \n",
       "      M             15310        15310         15310  "
      ]
     },
     "execution_count": 19,
     "metadata": {},
     "output_type": "execute_result"
    }
   ],
   "source": [
    "df.groupby([df[\"Age\"]<=30,df[\"Gender\"]]).count()"
   ]
  },
  {
   "cell_type": "code",
   "execution_count": 21,
   "metadata": {},
   "outputs": [],
   "source": [
    "def age(age): ##Function to convert age data type as int\n",
    "    if age <= 30:\n",
    "        return \"young\"\n",
    "    elif age > 30:\n",
    "        return \"aged\""
   ]
  },
  {
   "cell_type": "code",
   "execution_count": 35,
   "metadata": {},
   "outputs": [
    {
     "data": {
      "text/plain": [
       "<matplotlib.axes._subplots.AxesSubplot at 0xc229630>"
      ]
     },
     "execution_count": 35,
     "metadata": {},
     "output_type": "execute_result"
    },
    {
     "data": {
      "image/png": "[encoded data removed]",
      "text/plain": [
       "<Figure size 432x288 with 1 Axes>"
      ]
     },
     "metadata": {},
     "output_type": "display_data"
    }
   ],
   "source": [
    "sns.set_style('whitegrid')\n",
    "sns.countplot(x='Gender',hue=df['Age'].apply(age),data=df,palette='RdBu_r')"
   ]
  },
  {
   "cell_type": "code",
   "execution_count": 33,
   "metadata": {},
   "outputs": [
    {
     "data": {
      "text/plain": [
       "<matplotlib.axes._subplots.AxesSubplot at 0xcafd6d8>"
      ]
     },
     "execution_count": 33,
     "metadata": {},
     "output_type": "execute_result"
    },
    {
     "data": {
      "image/png": "[encoded data removed]",
      "text/plain": [
       "<Figure size 504x504 with 1 Axes>"
      ]
     },
     "metadata": {},
     "output_type": "display_data"
    }
   ],
   "source": [
    "value=pd.crosstab(df['Gender'],df['Age'].apply(age))\n",
    "value.div(value.sum(1).astype(float), axis=0).plot(kind=\"bar\",stacked=True, figsize=(7,7))"
   ]
  },
  {
   "cell_type": "code",
   "execution_count": null,
   "metadata": {},
   "outputs": [],
   "source": []
  }
 ],
 "metadata": {
  "kernelspec": {
   "display_name": "Python 3",
   "language": "python",
   "name": "python3"
  },
  "language_info": {
   "codemirror_mode": {
    "name": "ipython",
    "version": 3
   },
   "file_extension": ".py",
   "mimetype": "text/x-python",
   "name": "python",
   "nbconvert_exporter": "python",
   "pygments_lexer": "ipython3",
   "version": "3.6.5"
  }
 },
 "nbformat": 4,
 "nbformat_minor": 2
}
