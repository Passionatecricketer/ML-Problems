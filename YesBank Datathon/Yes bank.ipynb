{
 "cells": [
  {
   "cell_type": "code",
   "execution_count": 2,
   "metadata": {},
   "outputs": [],
   "source": [
    "import pandas as pd\n",
    "import numpy as np\n",
    "import seaborn as sns\n",
    "import matplotlib.pyplot as plt\n",
    "%matplotlib inline\n",
    "import warnings\n",
    "warnings.filterwarnings(\"ignore\")"
   ]
  },
  {
   "cell_type": "code",
   "execution_count": 4,
   "metadata": {},
   "outputs": [],
   "source": [
    "train=pd.read_csv(r'C:\\Users\\Rishabh\\Downloads\\Yes_Bank_Train.csv')\n",
    "test=pd.read_csv(r'C:\\Users\\Rishabh\\Downloads\\Yes_Bank_Test_Data.csv')"
   ]
  },
  {
   "cell_type": "code",
   "execution_count": 5,
   "metadata": {},
   "outputs": [],
   "source": [
    "train_original=train.copy()\n",
    "test_original=test.copy()"
   ]
  },
  {
   "cell_type": "code",
   "execution_count": 6,
   "metadata": {},
   "outputs": [
    {
     "data": {
      "text/plain": [
       "(17773, 56)"
      ]
     },
     "execution_count": 6,
     "metadata": {},
     "output_type": "execute_result"
    }
   ],
   "source": [
    "train.shape"
   ]
  },
  {
   "cell_type": "code",
   "execution_count": 7,
   "metadata": {},
   "outputs": [
    {
     "data": {
      "text/plain": [
       "(7621, 48)"
      ]
     },
     "execution_count": 7,
     "metadata": {},
     "output_type": "execute_result"
    }
   ],
   "source": [
    "test.shape"
   ]
  },
  {
   "cell_type": "code",
   "execution_count": 8,
   "metadata": {},
   "outputs": [
    {
     "data": {
      "text/plain": [
       "Index(['Serial Number', 'fund_symbol', 'fund_name', 'category', 'fund_family',\n",
       "       'investment', 'size', 'total_net_assets', 'currency',\n",
       "       'net_annual_expenses_ratio', 'morningstar_rating', 'inception_date',\n",
       "       'portfolio_cash', 'portfolio_stocks', 'portfolio_bonds',\n",
       "       'portfolio_others', 'portfolio_preferred', 'portfolio_convertable',\n",
       "       'sectors_basic_materials', 'sectors_consumer_cyclical',\n",
       "       'sectors_financial_services', 'sectors_real_estate',\n",
       "       'sectors_consumer_defensive', 'sectors_healthcare', 'sectors_utilities',\n",
       "       'sectors_communication_services', 'sectors_energy',\n",
       "       'sectors_industrials', 'sectors_technology', 'price_earning',\n",
       "       'bonds_us_government', 'bonds_aaa', 'bonds_aa', 'bonds_a', 'bonds_bbb',\n",
       "       'bonds_bb', 'bonds_b', 'bonds_below_b', 'bonds_others',\n",
       "       'morningstar_return_rating', 'returns_ytd', 'returns_2017',\n",
       "       'returns_2016', 'returns_2015', 'returns_2014', 'returns_2013',\n",
       "       'returns_2012', 'returns_2011', 'returns_2010',\n",
       "       'morningstar_risk_rating', 'alpha_3y', 'beta_3y',\n",
       "       'mean_annual_return_3y', 'standard_deviation_3y', 'sharpe_ratio_3y',\n",
       "       'treynor_ratio_3y'],\n",
       "      dtype='object')"
      ]
     },
     "execution_count": 8,
     "metadata": {},
     "output_type": "execute_result"
    }
   ],
   "source": [
    "train.columns"
   ]
  },
  {
   "cell_type": "code",
   "execution_count": 9,
   "metadata": {},
   "outputs": [
    {
     "data": {
      "text/plain": [
       "Index(['Serial Number', 'fund_symbol', 'fund_name', 'category', 'fund_family',\n",
       "       'investment', 'size', 'total_net_assets', 'currency',\n",
       "       'net_annual_expenses', 'morningstar_rating', 'inception_date',\n",
       "       'portfolio_cash', 'portfolio_stocks', 'portfolio_bonds',\n",
       "       'portfolio_others', 'portfolio_preferred', 'portfolio_convertable',\n",
       "       'sectors_basic_materials', 'sectors_consumer_cyclical',\n",
       "       'sectors_financial_services', 'sectors_real_estate',\n",
       "       'sectors_consumer_defensive', 'sectors_healthcare', 'sectors_utilities',\n",
       "       'sectors_communication_services', 'sectors_energy',\n",
       "       'sectors_industrials', 'sectors_technology', 'price_earning',\n",
       "       'bonds_us_government', 'morningstar_return_rating', 'returns_ytd',\n",
       "       'returns_2017', 'returns_2016', 'returns_2015', 'returns_2014',\n",
       "       'returns_2013', 'returns_2012', 'returns_2011', 'returns_2010',\n",
       "       'morningstar_risk_rating', 'alpha_3y', 'beta_3y',\n",
       "       'mean_annual_return_3y', 'standard_deviation_3y', 'sharpe_ratio_3y',\n",
       "       'treynor_ratio_3y'],\n",
       "      dtype='object')"
      ]
     },
     "execution_count": 9,
     "metadata": {},
     "output_type": "execute_result"
    }
   ],
   "source": [
    "test.columns"
   ]
  },
  {
   "cell_type": "code",
   "execution_count": 10,
   "metadata": {},
   "outputs": [
    {
     "data": {
      "text/plain": [
       "Serial Number                       int64\n",
       "fund_symbol                        object\n",
       "fund_name                          object\n",
       "category                           object\n",
       "fund_family                        object\n",
       "investment                         object\n",
       "size                               object\n",
       "total_net_assets                    int64\n",
       "currency                           object\n",
       "net_annual_expenses_ratio         float64\n",
       "morningstar_rating                  int64\n",
       "inception_date                     object\n",
       "portfolio_cash                    float64\n",
       "portfolio_stocks                  float64\n",
       "portfolio_bonds                   float64\n",
       "portfolio_others                  float64\n",
       "portfolio_preferred               float64\n",
       "portfolio_convertable             float64\n",
       "sectors_basic_materials           float64\n",
       "sectors_consumer_cyclical         float64\n",
       "sectors_financial_services        float64\n",
       "sectors_real_estate               float64\n",
       "sectors_consumer_defensive        float64\n",
       "sectors_healthcare                float64\n",
       "sectors_utilities                 float64\n",
       "sectors_communication_services    float64\n",
       "sectors_energy                    float64\n",
       "sectors_industrials               float64\n",
       "sectors_technology                float64\n",
       "price_earning                     float64\n",
       "bonds_us_government               float64\n",
       "bonds_aaa                         float64\n",
       "bonds_aa                          float64\n",
       "bonds_a                           float64\n",
       "bonds_bbb                         float64\n",
       "bonds_bb                          float64\n",
       "bonds_b                           float64\n",
       "bonds_below_b                     float64\n",
       "bonds_others                      float64\n",
       "morningstar_return_rating           int64\n",
       "returns_ytd                       float64\n",
       "returns_2017                      float64\n",
       "returns_2016                      float64\n",
       "returns_2015                      float64\n",
       "returns_2014                      float64\n",
       "returns_2013                      float64\n",
       "returns_2012                      float64\n",
       "returns_2011                      float64\n",
       "returns_2010                      float64\n",
       "morningstar_risk_rating             int64\n",
       "alpha_3y                          float64\n",
       "beta_3y                           float64\n",
       "mean_annual_return_3y             float64\n",
       "standard_deviation_3y             float64\n",
       "sharpe_ratio_3y                   float64\n",
       "treynor_ratio_3y                  float64\n",
       "dtype: object"
      ]
     },
     "execution_count": 10,
     "metadata": {},
     "output_type": "execute_result"
    }
   ],
   "source": [
    "train.dtypes"
   ]
  },
  {
   "cell_type": "code",
   "execution_count": 11,
   "metadata": {},
   "outputs": [
    {
     "data": {
      "text/plain": [
       "0.00      11597\n",
       "100.00      164\n",
       "38.63        37\n",
       "45.55        27\n",
       "63.18        22\n",
       "23.88        22\n",
       "63.10        18\n",
       "34.52        18\n",
       "2.37         18\n",
       "4.60         17\n",
       "12.85        17\n",
       "7.00         17\n",
       "48.37        16\n",
       "5.67         16\n",
       "73.34        15\n",
       "74.24        15\n",
       "98.90        15\n",
       "35.19        15\n",
       "2.35         15\n",
       "61.47        14\n",
       "35.57        14\n",
       "27.41        13\n",
       "47.62        13\n",
       "33.62        13\n",
       "24.77        12\n",
       "9.07         12\n",
       "40.57        12\n",
       "41.21        12\n",
       "9.03         12\n",
       "56.60        12\n",
       "          ...  \n",
       "38.49         1\n",
       "57.98         1\n",
       "7.90          1\n",
       "71.79         1\n",
       "51.59         1\n",
       "1.68          1\n",
       "27.00         1\n",
       "20.85         1\n",
       "44.24         1\n",
       "60.44         1\n",
       "18.79         1\n",
       "10.80         1\n",
       "22.79         1\n",
       "5.95          1\n",
       "98.59         1\n",
       "1.16          1\n",
       "55.81         1\n",
       "15.59         1\n",
       "41.91         1\n",
       "63.85         1\n",
       "39.04         1\n",
       "58.15         1\n",
       "35.01         1\n",
       "94.42         1\n",
       "24.85         1\n",
       "61.36         1\n",
       "36.35         1\n",
       "55.51         1\n",
       "2.03          1\n",
       "81.48         1\n",
       "Name: bonds_aaa, Length: 1366, dtype: int64"
      ]
     },
     "execution_count": 11,
     "metadata": {},
     "output_type": "execute_result"
    }
   ],
   "source": [
    "train['bonds_aaa'].value_counts()"
   ]
  },
  {
   "cell_type": "code",
   "execution_count": 12,
   "metadata": {},
   "outputs": [
    {
     "data": {
      "text/plain": [
       "0.00      0.652690\n",
       "100.00    0.009230\n",
       "38.63     0.002082\n",
       "45.55     0.001520\n",
       "63.18     0.001238\n",
       "23.88     0.001238\n",
       "63.10     0.001013\n",
       "34.52     0.001013\n",
       "2.37      0.001013\n",
       "4.60      0.000957\n",
       "12.85     0.000957\n",
       "7.00      0.000957\n",
       "48.37     0.000900\n",
       "5.67      0.000900\n",
       "73.34     0.000844\n",
       "74.24     0.000844\n",
       "98.90     0.000844\n",
       "35.19     0.000844\n",
       "2.35      0.000844\n",
       "61.47     0.000788\n",
       "35.57     0.000788\n",
       "27.41     0.000732\n",
       "47.62     0.000732\n",
       "33.62     0.000732\n",
       "24.77     0.000675\n",
       "9.07      0.000675\n",
       "40.57     0.000675\n",
       "41.21     0.000675\n",
       "9.03      0.000675\n",
       "56.60     0.000675\n",
       "            ...   \n",
       "38.49     0.000056\n",
       "57.98     0.000056\n",
       "7.90      0.000056\n",
       "71.79     0.000056\n",
       "51.59     0.000056\n",
       "1.68      0.000056\n",
       "27.00     0.000056\n",
       "20.85     0.000056\n",
       "44.24     0.000056\n",
       "60.44     0.000056\n",
       "18.79     0.000056\n",
       "10.80     0.000056\n",
       "22.79     0.000056\n",
       "5.95      0.000056\n",
       "98.59     0.000056\n",
       "1.16      0.000056\n",
       "55.81     0.000056\n",
       "15.59     0.000056\n",
       "41.91     0.000056\n",
       "63.85     0.000056\n",
       "39.04     0.000056\n",
       "58.15     0.000056\n",
       "35.01     0.000056\n",
       "94.42     0.000056\n",
       "24.85     0.000056\n",
       "61.36     0.000056\n",
       "36.35     0.000056\n",
       "55.51     0.000056\n",
       "2.03      0.000056\n",
       "81.48     0.000056\n",
       "Name: bonds_aaa, Length: 1366, dtype: float64"
      ]
     },
     "execution_count": 12,
     "metadata": {},
     "output_type": "execute_result"
    }
   ],
   "source": [
    "train['bonds_aaa'].value_counts(normalize=True)"
   ]
  },
  {
   "cell_type": "code",
   "execution_count": 13,
   "metadata": {},
   "outputs": [
    {
     "data": {
      "text/plain": [
       "Serial Number                        0\n",
       "fund_symbol                          0\n",
       "fund_name                            0\n",
       "category                             0\n",
       "fund_family                          0\n",
       "investment                         990\n",
       "size                               990\n",
       "total_net_assets                     0\n",
       "currency                             0\n",
       "net_annual_expenses_ratio           12\n",
       "morningstar_rating                   0\n",
       "inception_date                       0\n",
       "portfolio_cash                       5\n",
       "portfolio_stocks                     5\n",
       "portfolio_bonds                      5\n",
       "portfolio_others                     5\n",
       "portfolio_preferred                  5\n",
       "portfolio_convertable                5\n",
       "sectors_basic_materials              5\n",
       "sectors_consumer_cyclical            5\n",
       "sectors_financial_services           5\n",
       "sectors_real_estate                  5\n",
       "sectors_consumer_defensive           5\n",
       "sectors_healthcare                   5\n",
       "sectors_utilities                    5\n",
       "sectors_communication_services       5\n",
       "sectors_energy                       5\n",
       "sectors_industrials                  5\n",
       "sectors_technology                   5\n",
       "price_earning                        5\n",
       "bonds_us_government                  5\n",
       "bonds_aaa                            5\n",
       "bonds_aa                             5\n",
       "bonds_a                              5\n",
       "bonds_bbb                            5\n",
       "bonds_bb                             5\n",
       "bonds_b                              5\n",
       "bonds_below_b                        5\n",
       "bonds_others                         5\n",
       "morningstar_return_rating            0\n",
       "returns_ytd                        116\n",
       "returns_2017                      1894\n",
       "returns_2016                      2901\n",
       "returns_2015                      4111\n",
       "returns_2014                      5237\n",
       "returns_2013                      6364\n",
       "returns_2012                      7436\n",
       "returns_2011                      8281\n",
       "returns_2010                      9108\n",
       "morningstar_risk_rating              0\n",
       "alpha_3y                          1840\n",
       "beta_3y                           1840\n",
       "mean_annual_return_3y             1840\n",
       "standard_deviation_3y             1840\n",
       "sharpe_ratio_3y                   1840\n",
       "treynor_ratio_3y                  1840\n",
       "dtype: int64"
      ]
     },
     "execution_count": 13,
     "metadata": {},
     "output_type": "execute_result"
    }
   ],
   "source": [
    "train.isnull().sum()"
   ]
  },
  {
   "cell_type": "code",
   "execution_count": 14,
   "metadata": {},
   "outputs": [],
   "source": [
    "train.fillna(0,inplace=True)"
   ]
  },
  {
   "cell_type": "code",
   "execution_count": 15,
   "metadata": {},
   "outputs": [],
   "source": [
    "test.fillna(0,inplace=True)"
   ]
  },
  {
   "cell_type": "code",
   "execution_count": 16,
   "metadata": {},
   "outputs": [
    {
     "data": {
      "text/plain": [
       "Serial Number                     0\n",
       "fund_symbol                       0\n",
       "fund_name                         0\n",
       "category                          0\n",
       "fund_family                       0\n",
       "investment                        0\n",
       "size                              0\n",
       "total_net_assets                  0\n",
       "currency                          0\n",
       "net_annual_expenses_ratio         0\n",
       "morningstar_rating                0\n",
       "inception_date                    0\n",
       "portfolio_cash                    0\n",
       "portfolio_stocks                  0\n",
       "portfolio_bonds                   0\n",
       "portfolio_others                  0\n",
       "portfolio_preferred               0\n",
       "portfolio_convertable             0\n",
       "sectors_basic_materials           0\n",
       "sectors_consumer_cyclical         0\n",
       "sectors_financial_services        0\n",
       "sectors_real_estate               0\n",
       "sectors_consumer_defensive        0\n",
       "sectors_healthcare                0\n",
       "sectors_utilities                 0\n",
       "sectors_communication_services    0\n",
       "sectors_energy                    0\n",
       "sectors_industrials               0\n",
       "sectors_technology                0\n",
       "price_earning                     0\n",
       "bonds_us_government               0\n",
       "bonds_aaa                         0\n",
       "bonds_aa                          0\n",
       "bonds_a                           0\n",
       "bonds_bbb                         0\n",
       "bonds_bb                          0\n",
       "bonds_b                           0\n",
       "bonds_below_b                     0\n",
       "bonds_others                      0\n",
       "morningstar_return_rating         0\n",
       "returns_ytd                       0\n",
       "returns_2017                      0\n",
       "returns_2016                      0\n",
       "returns_2015                      0\n",
       "returns_2014                      0\n",
       "returns_2013                      0\n",
       "returns_2012                      0\n",
       "returns_2011                      0\n",
       "returns_2010                      0\n",
       "morningstar_risk_rating           0\n",
       "alpha_3y                          0\n",
       "beta_3y                           0\n",
       "mean_annual_return_3y             0\n",
       "standard_deviation_3y             0\n",
       "sharpe_ratio_3y                   0\n",
       "treynor_ratio_3y                  0\n",
       "dtype: int64"
      ]
     },
     "execution_count": 16,
     "metadata": {},
     "output_type": "execute_result"
    }
   ],
   "source": [
    "train.isnull().sum()"
   ]
  },
  {
   "cell_type": "code",
   "execution_count": 17,
   "metadata": {},
   "outputs": [
    {
     "data": {
      "text/plain": [
       "Serial Number                     0\n",
       "fund_symbol                       0\n",
       "fund_name                         0\n",
       "category                          0\n",
       "fund_family                       0\n",
       "investment                        0\n",
       "size                              0\n",
       "total_net_assets                  0\n",
       "currency                          0\n",
       "net_annual_expenses               0\n",
       "morningstar_rating                0\n",
       "inception_date                    0\n",
       "portfolio_cash                    0\n",
       "portfolio_stocks                  0\n",
       "portfolio_bonds                   0\n",
       "portfolio_others                  0\n",
       "portfolio_preferred               0\n",
       "portfolio_convertable             0\n",
       "sectors_basic_materials           0\n",
       "sectors_consumer_cyclical         0\n",
       "sectors_financial_services        0\n",
       "sectors_real_estate               0\n",
       "sectors_consumer_defensive        0\n",
       "sectors_healthcare                0\n",
       "sectors_utilities                 0\n",
       "sectors_communication_services    0\n",
       "sectors_energy                    0\n",
       "sectors_industrials               0\n",
       "sectors_technology                0\n",
       "price_earning                     0\n",
       "bonds_us_government               0\n",
       "morningstar_return_rating         0\n",
       "returns_ytd                       0\n",
       "returns_2017                      0\n",
       "returns_2016                      0\n",
       "returns_2015                      0\n",
       "returns_2014                      0\n",
       "returns_2013                      0\n",
       "returns_2012                      0\n",
       "returns_2011                      0\n",
       "returns_2010                      0\n",
       "morningstar_risk_rating           0\n",
       "alpha_3y                          0\n",
       "beta_3y                           0\n",
       "mean_annual_return_3y             0\n",
       "standard_deviation_3y             0\n",
       "sharpe_ratio_3y                   0\n",
       "treynor_ratio_3y                  0\n",
       "dtype: int64"
      ]
     },
     "execution_count": 17,
     "metadata": {},
     "output_type": "execute_result"
    }
   ],
   "source": [
    "test.isnull().sum()"
   ]
  },
  {
   "cell_type": "code",
   "execution_count": 18,
   "metadata": {},
   "outputs": [],
   "source": [
    "train=train.drop('Serial Number',axis=1)\n",
    "test=test.drop('Serial Number',axis=1)"
   ]
  },
  {
   "cell_type": "code",
   "execution_count": 19,
   "metadata": {},
   "outputs": [],
   "source": [
    "X=train.drop('bonds_aaa',axis=1)\n",
    "y=train.bonds_aaa"
   ]
  },
  {
   "cell_type": "code",
   "execution_count": 20,
   "metadata": {},
   "outputs": [],
   "source": [
    "X=pd.get_dummies(X)\n",
    "train=pd.get_dummies(train)\n",
    "test=pd.get_dummies(test)"
   ]
  },
  {
   "cell_type": "code",
   "execution_count": 26,
   "metadata": {},
   "outputs": [],
   "source": [
    "from sklearn.model_selection import train_test_split\n",
    "x_train, x_cv, y_train, y_cv = train_test_split(X,y, test_size =0.7)"
   ]
  },
  {
   "cell_type": "code",
   "execution_count": 27,
   "metadata": {},
   "outputs": [],
   "source": [
    "from sklearn.linear_model import LinearRegression\n",
    "from sklearn.metrics import accuracy_score"
   ]
  },
  {
   "cell_type": "code",
   "execution_count": 28,
   "metadata": {},
   "outputs": [],
   "source": [
    "lreg=LinearRegression()"
   ]
  },
  {
   "cell_type": "code",
   "execution_count": null,
   "metadata": {},
   "outputs": [],
   "source": [
    "lreg.fit(x_train,y_train)"
   ]
  },
  {
   "cell_type": "code",
   "execution_count": null,
   "metadata": {},
   "outputs": [],
   "source": []
  }
 ],
 "metadata": {
  "kernelspec": {
   "display_name": "Python 3",
   "language": "python",
   "name": "python3"
  },
  "language_info": {
   "codemirror_mode": {
    "name": "ipython",
    "version": 3
   },
   "file_extension": ".py",
   "mimetype": "text/x-python",
   "name": "python",
   "nbconvert_exporter": "python",
   "pygments_lexer": "ipython3",
   "version": "3.6.5"
  }
 },
 "nbformat": 4,
 "nbformat_minor": 2
}
