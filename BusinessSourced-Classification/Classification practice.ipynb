{
 "cells": [
  {
   "cell_type": "code",
   "execution_count": 26,
   "metadata": {},
   "outputs": [],
   "source": [
    "#importing required libraries\n",
    "\n",
    "import pandas as pd\n",
    "import matplotlib.pyplot as plt\n",
    "%matplotlib inline\n",
    "import numpy as np"
   ]
  },
  {
   "cell_type": "code",
   "execution_count": 31,
   "metadata": {},
   "outputs": [],
   "source": [
    "train=pd.read_csv(r'E:\\ML models\\Bussiness sourced(Classification)\\Train_pjb2QcD.csv')\n",
    "test=pd.read_csv(r'E:\\ML models\\Bussiness sourced(Classification)\\Test_wyCirpO.csv')"
   ]
  },
  {
   "cell_type": "code",
   "execution_count": 32,
   "metadata": {},
   "outputs": [],
   "source": [
    "train_original=train.copy()\n",
    "test_original=test.copy()"
   ]
  },
  {
   "cell_type": "code",
   "execution_count": 33,
   "metadata": {},
   "outputs": [
    {
     "data": {
      "text/plain": [
       "Index(['ID', 'Office_PIN', 'Application_Receipt_Date', 'Applicant_City_PIN',\n",
       "       'Applicant_Gender', 'Applicant_BirthDate', 'Applicant_Marital_Status',\n",
       "       'Applicant_Occupation', 'Applicant_Qualification', 'Manager_DOJ',\n",
       "       'Manager_Joining_Designation', 'Manager_Current_Designation',\n",
       "       'Manager_Grade', 'Manager_Status', 'Manager_Gender', 'Manager_DoB',\n",
       "       'Manager_Num_Application', 'Manager_Num_Coded', 'Manager_Business',\n",
       "       'Manager_Num_Products', 'Manager_Business2', 'Manager_Num_Products2',\n",
       "       'Business_Sourced'],\n",
       "      dtype='object')"
      ]
     },
     "execution_count": 33,
     "metadata": {},
     "output_type": "execute_result"
    }
   ],
   "source": [
    "train.columns"
   ]
  },
  {
   "cell_type": "code",
   "execution_count": 34,
   "metadata": {},
   "outputs": [
    {
     "data": {
      "text/plain": [
       "Index(['ID', 'Office_PIN', 'Application_Receipt_Date', 'Applicant_City_PIN',\n",
       "       'Applicant_Gender', 'Applicant_BirthDate', 'Applicant_Marital_Status',\n",
       "       'Applicant_Occupation', 'Applicant_Qualification', 'Manager_DOJ',\n",
       "       'Manager_Joining_Designation', 'Manager_Current_Designation',\n",
       "       'Manager_Grade', 'Manager_Status', 'Manager_Gender', 'Manager_DoB',\n",
       "       'Manager_Num_Application', 'Manager_Num_Coded', 'Manager_Business',\n",
       "       'Manager_Num_Products', 'Manager_Business2', 'Manager_Num_Products2'],\n",
       "      dtype='object')"
      ]
     },
     "execution_count": 34,
     "metadata": {},
     "output_type": "execute_result"
    }
   ],
   "source": [
    "test.columns"
   ]
  },
  {
   "cell_type": "code",
   "execution_count": 35,
   "metadata": {},
   "outputs": [
    {
     "data": {
      "text/plain": [
       "(9527, 23)"
      ]
     },
     "execution_count": 35,
     "metadata": {},
     "output_type": "execute_result"
    }
   ],
   "source": [
    "train.shape"
   ]
  },
  {
   "cell_type": "code",
   "execution_count": 36,
   "metadata": {},
   "outputs": [
    {
     "data": {
      "text/plain": [
       "(5045, 22)"
      ]
     },
     "execution_count": 36,
     "metadata": {},
     "output_type": "execute_result"
    }
   ],
   "source": [
    "test.shape"
   ]
  },
  {
   "cell_type": "code",
   "execution_count": 37,
   "metadata": {},
   "outputs": [
    {
     "data": {
      "text/plain": [
       "0    6260\n",
       "1    3267\n",
       "Name: Business_Sourced, dtype: int64"
      ]
     },
     "execution_count": 37,
     "metadata": {},
     "output_type": "execute_result"
    }
   ],
   "source": [
    "train['Business_Sourced'].value_counts()"
   ]
  },
  {
   "cell_type": "code",
   "execution_count": 38,
   "metadata": {},
   "outputs": [
    {
     "data": {
      "text/plain": [
       "0    0.65708\n",
       "1    0.34292\n",
       "Name: Business_Sourced, dtype: float64"
      ]
     },
     "execution_count": 38,
     "metadata": {},
     "output_type": "execute_result"
    }
   ],
   "source": [
    "train['Business_Sourced'].value_counts(normalize=True)"
   ]
  },
  {
   "cell_type": "code",
   "execution_count": 39,
   "metadata": {},
   "outputs": [
    {
     "data": {
      "text/plain": [
       "ID                                0\n",
       "Office_PIN                        0\n",
       "Application_Receipt_Date          0\n",
       "Applicant_City_PIN               97\n",
       "Applicant_Gender                 67\n",
       "Applicant_BirthDate              73\n",
       "Applicant_Marital_Status         73\n",
       "Applicant_Occupation           1221\n",
       "Applicant_Qualification          86\n",
       "Manager_DOJ                     683\n",
       "Manager_Joining_Designation     683\n",
       "Manager_Current_Designation     683\n",
       "Manager_Grade                   683\n",
       "Manager_Status                  683\n",
       "Manager_Gender                  683\n",
       "Manager_DoB                     683\n",
       "Manager_Num_Application         683\n",
       "Manager_Num_Coded               683\n",
       "Manager_Business                683\n",
       "Manager_Num_Products            683\n",
       "Manager_Business2               683\n",
       "Manager_Num_Products2           683\n",
       "Business_Sourced                  0\n",
       "dtype: int64"
      ]
     },
     "execution_count": 39,
     "metadata": {},
     "output_type": "execute_result"
    }
   ],
   "source": [
    "train.isnull().sum()"
   ]
  },
  {
   "cell_type": "code",
   "execution_count": 40,
   "metadata": {},
   "outputs": [],
   "source": [
    "train.fillna(0,inplace=True)"
   ]
  },
  {
   "cell_type": "code",
   "execution_count": 42,
   "metadata": {},
   "outputs": [
    {
     "data": {
      "text/plain": [
       "ID                             0\n",
       "Office_PIN                     0\n",
       "Application_Receipt_Date       0\n",
       "Applicant_City_PIN             0\n",
       "Applicant_Gender               0\n",
       "Applicant_BirthDate            0\n",
       "Applicant_Marital_Status       0\n",
       "Applicant_Occupation           0\n",
       "Applicant_Qualification        0\n",
       "Manager_DOJ                    0\n",
       "Manager_Joining_Designation    0\n",
       "Manager_Current_Designation    0\n",
       "Manager_Grade                  0\n",
       "Manager_Status                 0\n",
       "Manager_Gender                 0\n",
       "Manager_DoB                    0\n",
       "Manager_Num_Application        0\n",
       "Manager_Num_Coded              0\n",
       "Manager_Business               0\n",
       "Manager_Num_Products           0\n",
       "Manager_Business2              0\n",
       "Manager_Num_Products2          0\n",
       "Business_Sourced               0\n",
       "dtype: int64"
      ]
     },
     "execution_count": 42,
     "metadata": {},
     "output_type": "execute_result"
    }
   ],
   "source": [
    "train.isnull().sum()"
   ]
  },
  {
   "cell_type": "code",
   "execution_count": 43,
   "metadata": {},
   "outputs": [],
   "source": [
    "test.fillna(0,inplace=True)"
   ]
  },
  {
   "cell_type": "code",
   "execution_count": 44,
   "metadata": {},
   "outputs": [
    {
     "data": {
      "text/plain": [
       "ID                             0\n",
       "Office_PIN                     0\n",
       "Application_Receipt_Date       0\n",
       "Applicant_City_PIN             0\n",
       "Applicant_Gender               0\n",
       "Applicant_BirthDate            0\n",
       "Applicant_Marital_Status       0\n",
       "Applicant_Occupation           0\n",
       "Applicant_Qualification        0\n",
       "Manager_DOJ                    0\n",
       "Manager_Joining_Designation    0\n",
       "Manager_Current_Designation    0\n",
       "Manager_Grade                  0\n",
       "Manager_Status                 0\n",
       "Manager_Gender                 0\n",
       "Manager_DoB                    0\n",
       "Manager_Num_Application        0\n",
       "Manager_Num_Coded              0\n",
       "Manager_Business               0\n",
       "Manager_Num_Products           0\n",
       "Manager_Business2              0\n",
       "Manager_Num_Products2          0\n",
       "dtype: int64"
      ]
     },
     "execution_count": 44,
     "metadata": {},
     "output_type": "execute_result"
    }
   ],
   "source": [
    "test.isnull().sum()"
   ]
  },
  {
   "cell_type": "code",
   "execution_count": 45,
   "metadata": {},
   "outputs": [],
   "source": [
    "train=train.drop('ID',axis=1)\n",
    "test=test.drop('ID',axis=1)"
   ]
  },
  {
   "cell_type": "code",
   "execution_count": 46,
   "metadata": {},
   "outputs": [],
   "source": [
    "X = train.drop('Business_Sourced',1)\n",
    "y = train.Business_Sourced"
   ]
  },
  {
   "cell_type": "code",
   "execution_count": 47,
   "metadata": {},
   "outputs": [],
   "source": [
    "X=pd.get_dummies(X)\n",
    "train=pd.get_dummies(train)\n",
    "test=pd.get_dummies(test)"
   ]
  },
  {
   "cell_type": "code",
   "execution_count": 48,
   "metadata": {},
   "outputs": [],
   "source": [
    "from sklearn.model_selection import train_test_split\n",
    "x_train, x_cv, y_train, y_cv = train_test_split(X,y, test_size =0.3)"
   ]
  },
  {
   "cell_type": "code",
   "execution_count": 49,
   "metadata": {},
   "outputs": [],
   "source": [
    "from sklearn.linear_model import LogisticRegression\n",
    "from sklearn.metrics import accuracy_score"
   ]
  },
  {
   "cell_type": "code",
   "execution_count": 50,
   "metadata": {},
   "outputs": [],
   "source": [
    "logreg=LogisticRegression()"
   ]
  },
  {
   "cell_type": "code",
   "execution_count": 51,
   "metadata": {},
   "outputs": [
    {
     "data": {
      "text/plain": [
       "LogisticRegression(C=1.0, class_weight=None, dual=False, fit_intercept=True,\n",
       "          intercept_scaling=1, max_iter=100, multi_class='ovr', n_jobs=1,\n",
       "          penalty='l2', random_state=None, solver='liblinear', tol=0.0001,\n",
       "          verbose=0, warm_start=False)"
      ]
     },
     "execution_count": 51,
     "metadata": {},
     "output_type": "execute_result"
    }
   ],
   "source": [
    "logreg.fit(x_train,y_train)"
   ]
  },
  {
   "cell_type": "code",
   "execution_count": 52,
   "metadata": {},
   "outputs": [
    {
     "data": {
      "text/plain": [
       "array([0, 0, 0, ..., 0, 0, 0], dtype=int64)"
      ]
     },
     "execution_count": 52,
     "metadata": {},
     "output_type": "execute_result"
    }
   ],
   "source": [
    "pred=logreg.predict(x_cv)\n",
    "pred"
   ]
  },
  {
   "cell_type": "code",
   "execution_count": 53,
   "metadata": {},
   "outputs": [
    {
     "data": {
      "text/plain": [
       "0.659118176364727"
      ]
     },
     "execution_count": 53,
     "metadata": {},
     "output_type": "execute_result"
    }
   ],
   "source": [
    "logreg.score(x_train,y_train)"
   ]
  },
  {
   "cell_type": "code",
   "execution_count": 55,
   "metadata": {},
   "outputs": [
    {
     "data": {
      "text/plain": [
       "0.65232598810773"
      ]
     },
     "execution_count": 55,
     "metadata": {},
     "output_type": "execute_result"
    }
   ],
   "source": [
    "accuracy_score(y_cv,pred)"
   ]
  },
  {
   "cell_type": "code",
   "execution_count": 57,
   "metadata": {},
   "outputs": [],
   "source": [
    "submission=pd.read_csv(r'E:\\ML models\\Bussiness sourced(Classification)\\Sample_Submission_RHYDQa4.csv')"
   ]
  },
  {
   "cell_type": "code",
   "execution_count": 58,
   "metadata": {},
   "outputs": [],
   "source": [
    "submission['Business_Sourced']=pred\n",
    "submission['ID']=test_original['ID']"
   ]
  },
  {
   "cell_type": "code",
   "execution_count": 59,
   "metadata": {},
   "outputs": [],
   "source": [
    "submission['Business_Sourced'].replace(0, 'N',inplace=True)\n",
    "submission['Business_Sourced'].replace(1, 'Y',inplace=True)"
   ]
  },
  {
   "cell_type": "code",
   "execution_count": 60,
   "metadata": {},
   "outputs": [],
   "source": [
    "predic = pd.DataFrame(submission, columns=['ID','Business_Sourced']).to_csv('prediction.csv',index=False)"
   ]
  },
  {
   "cell_type": "code",
   "execution_count": null,
   "metadata": {},
   "outputs": [],
   "source": []
  }
 ],
 "metadata": {
  "kernelspec": {
   "display_name": "Python 3",
   "language": "python",
   "name": "python3"
  },
  "language_info": {
   "codemirror_mode": {
    "name": "ipython",
    "version": 3
   },
   "file_extension": ".py",
   "mimetype": "text/x-python",
   "name": "python",
   "nbconvert_exporter": "python",
   "pygments_lexer": "ipython3",
   "version": "3.6.5"
  }
 },
 "nbformat": 4,
 "nbformat_minor": 2
}
