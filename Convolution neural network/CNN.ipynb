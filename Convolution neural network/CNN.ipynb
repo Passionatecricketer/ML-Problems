{
 "cells": [
  {
   "cell_type": "code",
   "execution_count": 1,
   "metadata": {},
   "outputs": [
    {
     "name": "stderr",
     "output_type": "stream",
     "text": [
      "C:\\ProgramData\\Anaconda3\\lib\\site-packages\\h5py\\__init__.py:36: FutureWarning: Conversion of the second argument of issubdtype from `float` to `np.floating` is deprecated. In future, it will be treated as `np.float64 == np.dtype(float).type`.\n",
      "  from ._conv import register_converters as _register_converters\n",
      "Using TensorFlow backend.\n"
     ]
    }
   ],
   "source": [
    "from keras.models import Sequential\n",
    "from keras.layers import Convolution2D\n",
    "from keras.layers import MaxPooling2D\n",
    "from keras.layers import Flatten\n",
    "from keras.layers import Dense"
   ]
  },
  {
   "cell_type": "code",
   "execution_count": 2,
   "metadata": {},
   "outputs": [],
   "source": [
    "classifier = Sequential()\n"
   ]
  },
  {
   "cell_type": "code",
   "execution_count": 3,
   "metadata": {},
   "outputs": [
    {
     "name": "stderr",
     "output_type": "stream",
     "text": [
      "C:\\ProgramData\\Anaconda3\\lib\\site-packages\\ipykernel_launcher.py:1: UserWarning: Update your `Conv2D` call to the Keras 2 API: `Conv2D(32, (3, 3), input_shape=(64, 64, 3..., activation=\"relu\")`\n",
      "  \"\"\"Entry point for launching an IPython kernel.\n"
     ]
    }
   ],
   "source": [
    "classifier.add(Convolution2D(32, 3, 3, input_shape = (64, 64, 3), activation = 'relu'))"
   ]
  },
  {
   "cell_type": "code",
   "execution_count": 4,
   "metadata": {},
   "outputs": [],
   "source": [
    "classifier.add(MaxPooling2D(pool_size = (2, 2)))"
   ]
  },
  {
   "cell_type": "code",
   "execution_count": 5,
   "metadata": {},
   "outputs": [
    {
     "name": "stderr",
     "output_type": "stream",
     "text": [
      "C:\\ProgramData\\Anaconda3\\lib\\site-packages\\ipykernel_launcher.py:1: UserWarning: Update your `Conv2D` call to the Keras 2 API: `Conv2D(32, (3, 3), activation=\"relu\")`\n",
      "  \"\"\"Entry point for launching an IPython kernel.\n"
     ]
    }
   ],
   "source": [
    "classifier.add(Convolution2D(32, 3, 3, activation = 'relu'))\n",
    "classifier.add(MaxPooling2D(pool_size = (2, 2)))"
   ]
  },
  {
   "cell_type": "code",
   "execution_count": 6,
   "metadata": {},
   "outputs": [],
   "source": [
    "classifier.add(Flatten())"
   ]
  },
  {
   "cell_type": "code",
   "execution_count": 7,
   "metadata": {},
   "outputs": [
    {
     "name": "stderr",
     "output_type": "stream",
     "text": [
      "C:\\ProgramData\\Anaconda3\\lib\\site-packages\\ipykernel_launcher.py:1: UserWarning: Update your `Dense` call to the Keras 2 API: `Dense(activation=\"relu\", units=128)`\n",
      "  \"\"\"Entry point for launching an IPython kernel.\n",
      "C:\\ProgramData\\Anaconda3\\lib\\site-packages\\ipykernel_launcher.py:2: UserWarning: Update your `Dense` call to the Keras 2 API: `Dense(activation=\"sigmoid\", units=1)`\n",
      "  \n"
     ]
    }
   ],
   "source": [
    "classifier.add(Dense(output_dim = 128, activation = 'relu'))\n",
    "classifier.add(Dense(output_dim = 1, activation = 'sigmoid'))"
   ]
  },
  {
   "cell_type": "code",
   "execution_count": 8,
   "metadata": {},
   "outputs": [],
   "source": [
    "classifier.compile(optimizer = 'adam', loss = 'binary_crossentropy', metrics = ['accuracy'])"
   ]
  },
  {
   "cell_type": "code",
   "execution_count": 9,
   "metadata": {},
   "outputs": [],
   "source": [
    "from keras.preprocessing.image import ImageDataGenerator"
   ]
  },
  {
   "cell_type": "code",
   "execution_count": 10,
   "metadata": {},
   "outputs": [],
   "source": [
    "train_datagen = ImageDataGenerator(rescale = 1./255,\n",
    "                                   shear_range = 0.2,\n",
    "                                   zoom_range = 0.2,\n",
    "                                   horizontal_flip = True)"
   ]
  },
  {
   "cell_type": "code",
   "execution_count": 11,
   "metadata": {},
   "outputs": [],
   "source": [
    "test_datagen = ImageDataGenerator(rescale = 1./255)"
   ]
  },
  {
   "cell_type": "code",
   "execution_count": 12,
   "metadata": {},
   "outputs": [
    {
     "name": "stdout",
     "output_type": "stream",
     "text": [
      "Found 8000 images belonging to 2 classes.\n"
     ]
    }
   ],
   "source": [
    "training_set = train_datagen.flow_from_directory(r'E:\\A-Z content\\Convolutional_Neural_Networks\\dataset\\training_set',\n",
    "                                                 target_size = (64, 64),\n",
    "                                                 batch_size = 32,\n",
    "                                                 class_mode = 'binary')"
   ]
  },
  {
   "cell_type": "code",
   "execution_count": 13,
   "metadata": {},
   "outputs": [
    {
     "name": "stdout",
     "output_type": "stream",
     "text": [
      "Found 2000 images belonging to 2 classes.\n"
     ]
    }
   ],
   "source": [
    "test_set = test_datagen.flow_from_directory(r'E:\\A-Z content\\Convolutional_Neural_Networks\\dataset\\test_set',\n",
    "                                            target_size = (64, 64),\n",
    "                                            batch_size = 32,\n",
    "                                            class_mode = 'binary')"
   ]
  },
  {
   "cell_type": "code",
   "execution_count": 14,
   "metadata": {},
   "outputs": [
    {
     "name": "stderr",
     "output_type": "stream",
     "text": [
      "C:\\ProgramData\\Anaconda3\\lib\\site-packages\\ipykernel_launcher.py:5: UserWarning: The semantics of the Keras 2 argument `steps_per_epoch` is not the same as the Keras 1 argument `samples_per_epoch`. `steps_per_epoch` is the number of batches to draw from the generator at each epoch. Basically steps_per_epoch = samples_per_epoch/batch_size. Similarly `nb_val_samples`->`validation_steps` and `val_samples`->`steps` arguments have changed. Update your method calls accordingly.\n",
      "  \"\"\"\n",
      "C:\\ProgramData\\Anaconda3\\lib\\site-packages\\ipykernel_launcher.py:5: UserWarning: Update your `fit_generator` call to the Keras 2 API: `fit_generator(<keras_pre..., validation_data=<keras_pre..., steps_per_epoch=250, epochs=25, validation_steps=2000)`\n",
      "  \"\"\"\n"
     ]
    },
    {
     "name": "stdout",
     "output_type": "stream",
     "text": [
      "Epoch 1/25\n",
      "250/250 [==============================] - 664s 3s/step - loss: 0.6658 - acc: 0.5837 - val_loss: 0.6841 - val_acc: 0.5917\n",
      "Epoch 2/25\n",
      "250/250 [==============================] - 544s 2s/step - loss: 0.6014 - acc: 0.6839 - val_loss: 0.5795 - val_acc: 0.7005\n",
      "Epoch 3/25\n",
      "250/250 [==============================] - 513s 2s/step - loss: 0.5681 - acc: 0.7011 - val_loss: 0.5390 - val_acc: 0.7343\n",
      "Epoch 4/25\n",
      "250/250 [==============================] - 464s 2s/step - loss: 0.5481 - acc: 0.7200 - val_loss: 0.5588 - val_acc: 0.7149\n",
      "Epoch 5/25\n",
      "250/250 [==============================] - 469s 2s/step - loss: 0.5174 - acc: 0.7439 - val_loss: 0.5426 - val_acc: 0.7206\n",
      "Epoch 6/25\n",
      "250/250 [==============================] - 466s 2s/step - loss: 0.5038 - acc: 0.7511 - val_loss: 0.5048 - val_acc: 0.7651\n",
      "Epoch 7/25\n",
      "250/250 [==============================] - 465s 2s/step - loss: 0.4797 - acc: 0.7647 - val_loss: 0.5691 - val_acc: 0.7244\n",
      "Epoch 8/25\n",
      "250/250 [==============================] - 467s 2s/step - loss: 0.4796 - acc: 0.7740 - val_loss: 0.5056 - val_acc: 0.7681\n",
      "Epoch 9/25\n",
      "250/250 [==============================] - 465s 2s/step - loss: 0.4577 - acc: 0.7837 - val_loss: 0.4719 - val_acc: 0.7797\n",
      "Epoch 10/25\n",
      "250/250 [==============================] - 575s 2s/step - loss: 0.4399 - acc: 0.7976 - val_loss: 0.5250 - val_acc: 0.7496\n",
      "Epoch 11/25\n",
      "250/250 [==============================] - 467s 2s/step - loss: 0.4254 - acc: 0.7986 - val_loss: 0.4585 - val_acc: 0.7851\n",
      "Epoch 12/25\n",
      "250/250 [==============================] - 1064s 4s/step - loss: 0.4235 - acc: 0.8048 - val_loss: 0.4675 - val_acc: 0.7890\n",
      "Epoch 13/25\n",
      "250/250 [==============================] - 468s 2s/step - loss: 0.4059 - acc: 0.8106 - val_loss: 0.4856 - val_acc: 0.7886\n",
      "Epoch 14/25\n",
      "250/250 [==============================] - 528s 2s/step - loss: 0.3915 - acc: 0.8151 - val_loss: 0.4704 - val_acc: 0.7911\n",
      "Epoch 15/25\n",
      "250/250 [==============================] - 621s 2s/step - loss: 0.3840 - acc: 0.8233 - val_loss: 0.5203 - val_acc: 0.7649\n",
      "Epoch 16/25\n",
      "250/250 [==============================] - 592s 2s/step - loss: 0.3762 - acc: 0.8260 - val_loss: 0.5279 - val_acc: 0.7671\n",
      "Epoch 17/25\n",
      "250/250 [==============================] - 577s 2s/step - loss: 0.3602 - acc: 0.8356 - val_loss: 0.4912 - val_acc: 0.7873\n",
      "Epoch 18/25\n",
      "250/250 [==============================] - 512s 2s/step - loss: 0.3589 - acc: 0.8340 - val_loss: 0.4894 - val_acc: 0.7933\n",
      "Epoch 19/25\n",
      "250/250 [==============================] - 17562s 70s/step - loss: 0.3482 - acc: 0.8452 - val_loss: 0.5036 - val_acc: 0.7816\n",
      "Epoch 20/25\n",
      "250/250 [==============================] - 491s 2s/step - loss: 0.3313 - acc: 0.8555 - val_loss: 0.4754 - val_acc: 0.7950\n",
      "Epoch 21/25\n",
      "250/250 [==============================] - 468s 2s/step - loss: 0.3133 - acc: 0.8632 - val_loss: 0.4765 - val_acc: 0.7925\n",
      "Epoch 22/25\n",
      "250/250 [==============================] - 466s 2s/step - loss: 0.3129 - acc: 0.8605 - val_loss: 0.5402 - val_acc: 0.7771\n",
      "Epoch 23/25\n",
      "250/250 [==============================] - 467s 2s/step - loss: 0.3053 - acc: 0.8658 - val_loss: 0.5079 - val_acc: 0.7858\n",
      "Epoch 24/25\n",
      "250/250 [==============================] - 465s 2s/step - loss: 0.2876 - acc: 0.8779 - val_loss: 0.5454 - val_acc: 0.7910\n",
      "Epoch 25/25\n",
      "250/250 [==============================] - 465s 2s/step - loss: 0.2849 - acc: 0.8749 - val_loss: 0.5125 - val_acc: 0.7999\n"
     ]
    },
    {
     "data": {
      "text/plain": [
       "<keras.callbacks.History at 0x7e6cfd0>"
      ]
     },
     "execution_count": 14,
     "metadata": {},
     "output_type": "execute_result"
    }
   ],
   "source": [
    "classifier.fit_generator(training_set,\n",
    "                         samples_per_epoch = 8000,\n",
    "                         nb_epoch = 25,\n",
    "                         validation_data = test_set,\n",
    "                         nb_val_samples = 2000)"
   ]
  },
  {
   "cell_type": "code",
   "execution_count": null,
   "metadata": {},
   "outputs": [],
   "source": []
  }
 ],
 "metadata": {
  "kernelspec": {
   "display_name": "Python 3",
   "language": "python",
   "name": "python3"
  },
  "language_info": {
   "codemirror_mode": {
    "name": "ipython",
    "version": 3
   },
   "file_extension": ".py",
   "mimetype": "text/x-python",
   "name": "python",
   "nbconvert_exporter": "python",
   "pygments_lexer": "ipython3",
   "version": "3.6.5"
  }
 },
 "nbformat": 4,
 "nbformat_minor": 2
}
