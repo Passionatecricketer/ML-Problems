{
 "cells": [
  {
   "cell_type": "code",
   "execution_count": 2,
   "metadata": {},
   "outputs": [],
   "source": [
    "import pandas as pd\n",
    "import numpy as np\n",
    "import matplotlib.pyplot as plt\n",
    "%matplotlib inline\n",
    "import seaborn as sns\n",
    "import warnings\n",
    "warnings.filterwarnings(\"ignore\")"
   ]
  },
  {
   "cell_type": "code",
   "execution_count": 3,
   "metadata": {},
   "outputs": [],
   "source": [
    "train=pd.read_csv(r'E:\\train.csv')\n",
    "test=pd.read_csv(r'E:\\test.csv')"
   ]
  },
  {
   "cell_type": "code",
   "execution_count": 4,
   "metadata": {},
   "outputs": [
    {
     "data": {
      "text/plain": [
       "(4357336, 26)"
      ]
     },
     "execution_count": 4,
     "metadata": {},
     "output_type": "execute_result"
    }
   ],
   "source": [
    "train.shape"
   ]
  },
  {
   "cell_type": "code",
   "execution_count": 5,
   "metadata": {},
   "outputs": [
    {
     "data": {
      "text/plain": [
       "(1867913, 25)"
      ]
     },
     "execution_count": 5,
     "metadata": {},
     "output_type": "execute_result"
    }
   ],
   "source": [
    "test.shape"
   ]
  },
  {
   "cell_type": "code",
   "execution_count": 6,
   "metadata": {},
   "outputs": [],
   "source": [
    "train_original=train.copy()\n",
    "test_original=test.copy()"
   ]
  },
  {
   "cell_type": "code",
   "execution_count": 7,
   "metadata": {},
   "outputs": [
    {
     "data": {
      "text/plain": [
       "Index(['Id', 'groupId', 'matchId', 'assists', 'boosts', 'damageDealt', 'DBNOs',\n",
       "       'headshotKills', 'heals', 'killPlace', 'killPoints', 'kills',\n",
       "       'killStreaks', 'longestKill', 'maxPlace', 'numGroups', 'revives',\n",
       "       'rideDistance', 'roadKills', 'swimDistance', 'teamKills',\n",
       "       'vehicleDestroys', 'walkDistance', 'weaponsAcquired', 'winPoints',\n",
       "       'winPlacePerc'],\n",
       "      dtype='object')"
      ]
     },
     "execution_count": 7,
     "metadata": {},
     "output_type": "execute_result"
    }
   ],
   "source": [
    "train.columns"
   ]
  },
  {
   "cell_type": "code",
   "execution_count": 8,
   "metadata": {},
   "outputs": [
    {
     "data": {
      "text/plain": [
       "Index(['Id', 'groupId', 'matchId', 'assists', 'boosts', 'damageDealt', 'DBNOs',\n",
       "       'headshotKills', 'heals', 'killPlace', 'killPoints', 'kills',\n",
       "       'killStreaks', 'longestKill', 'maxPlace', 'numGroups', 'revives',\n",
       "       'rideDistance', 'roadKills', 'swimDistance', 'teamKills',\n",
       "       'vehicleDestroys', 'walkDistance', 'weaponsAcquired', 'winPoints'],\n",
       "      dtype='object')"
      ]
     },
     "execution_count": 8,
     "metadata": {},
     "output_type": "execute_result"
    }
   ],
   "source": [
    "test.columns"
   ]
  },
  {
   "cell_type": "code",
   "execution_count": 9,
   "metadata": {},
   "outputs": [
    {
     "data": {
      "text/plain": [
       "Id                   int64\n",
       "groupId              int64\n",
       "matchId              int64\n",
       "assists              int64\n",
       "boosts               int64\n",
       "damageDealt        float64\n",
       "DBNOs                int64\n",
       "headshotKills        int64\n",
       "heals                int64\n",
       "killPlace            int64\n",
       "killPoints           int64\n",
       "kills                int64\n",
       "killStreaks          int64\n",
       "longestKill        float64\n",
       "maxPlace             int64\n",
       "numGroups            int64\n",
       "revives              int64\n",
       "rideDistance       float64\n",
       "roadKills            int64\n",
       "swimDistance       float64\n",
       "teamKills            int64\n",
       "vehicleDestroys      int64\n",
       "walkDistance       float64\n",
       "weaponsAcquired      int64\n",
       "winPoints            int64\n",
       "winPlacePerc       float64\n",
       "dtype: object"
      ]
     },
     "execution_count": 9,
     "metadata": {},
     "output_type": "execute_result"
    }
   ],
   "source": [
    "train.dtypes"
   ]
  },
  {
   "cell_type": "code",
   "execution_count": 11,
   "metadata": {},
   "outputs": [
    {
     "data": {
      "text/html": [
       "<div>\n",
       "<style scoped>\n",
       "    .dataframe tbody tr th:only-of-type {\n",
       "        vertical-align: middle;\n",
       "    }\n",
       "\n",
       "    .dataframe tbody tr th {\n",
       "        vertical-align: top;\n",
       "    }\n",
       "\n",
       "    .dataframe thead th {\n",
       "        text-align: right;\n",
       "    }\n",
       "</style>\n",
       "<table border=\"1\" class=\"dataframe\">\n",
       "  <thead>\n",
       "    <tr style=\"text-align: right;\">\n",
       "      <th></th>\n",
       "      <th>Id</th>\n",
       "      <th>groupId</th>\n",
       "      <th>matchId</th>\n",
       "      <th>assists</th>\n",
       "      <th>boosts</th>\n",
       "      <th>damageDealt</th>\n",
       "      <th>DBNOs</th>\n",
       "      <th>headshotKills</th>\n",
       "      <th>heals</th>\n",
       "      <th>killPlace</th>\n",
       "      <th>...</th>\n",
       "      <th>revives</th>\n",
       "      <th>rideDistance</th>\n",
       "      <th>roadKills</th>\n",
       "      <th>swimDistance</th>\n",
       "      <th>teamKills</th>\n",
       "      <th>vehicleDestroys</th>\n",
       "      <th>walkDistance</th>\n",
       "      <th>weaponsAcquired</th>\n",
       "      <th>winPoints</th>\n",
       "      <th>winPlacePerc</th>\n",
       "    </tr>\n",
       "  </thead>\n",
       "  <tbody>\n",
       "    <tr>\n",
       "      <th>count</th>\n",
       "      <td>4.357336e+06</td>\n",
       "      <td>4.357336e+06</td>\n",
       "      <td>4.357336e+06</td>\n",
       "      <td>4.357336e+06</td>\n",
       "      <td>4.357336e+06</td>\n",
       "      <td>4.357336e+06</td>\n",
       "      <td>4.357336e+06</td>\n",
       "      <td>4.357336e+06</td>\n",
       "      <td>4.357336e+06</td>\n",
       "      <td>4.357336e+06</td>\n",
       "      <td>...</td>\n",
       "      <td>4.357336e+06</td>\n",
       "      <td>4.357336e+06</td>\n",
       "      <td>4.357336e+06</td>\n",
       "      <td>4.357336e+06</td>\n",
       "      <td>4.357336e+06</td>\n",
       "      <td>4.357336e+06</td>\n",
       "      <td>4.357336e+06</td>\n",
       "      <td>4.357336e+06</td>\n",
       "      <td>4.357336e+06</td>\n",
       "      <td>4.357336e+06</td>\n",
       "    </tr>\n",
       "    <tr>\n",
       "      <th>mean</th>\n",
       "      <td>3.102678e+06</td>\n",
       "      <td>1.024777e+06</td>\n",
       "      <td>2.385539e+04</td>\n",
       "      <td>2.656320e-01</td>\n",
       "      <td>9.636856e-01</td>\n",
       "      <td>1.329033e+02</td>\n",
       "      <td>6.901455e-01</td>\n",
       "      <td>2.385866e-01</td>\n",
       "      <td>1.187169e+00</td>\n",
       "      <td>4.703440e+01</td>\n",
       "      <td>...</td>\n",
       "      <td>1.649345e-01</td>\n",
       "      <td>4.238835e+02</td>\n",
       "      <td>2.557985e-03</td>\n",
       "      <td>4.136261e+00</td>\n",
       "      <td>1.388555e-02</td>\n",
       "      <td>5.146264e-03</td>\n",
       "      <td>1.055122e+03</td>\n",
       "      <td>3.457289e+00</td>\n",
       "      <td>1.500504e+03</td>\n",
       "      <td>4.718663e-01</td>\n",
       "    </tr>\n",
       "    <tr>\n",
       "      <th>std</th>\n",
       "      <td>1.797477e+06</td>\n",
       "      <td>6.967197e+05</td>\n",
       "      <td>1.378227e+04</td>\n",
       "      <td>6.342160e-01</td>\n",
       "      <td>1.560643e+00</td>\n",
       "      <td>1.699439e+02</td>\n",
       "      <td>1.191514e+00</td>\n",
       "      <td>6.103033e-01</td>\n",
       "      <td>2.366389e+00</td>\n",
       "      <td>2.732772e+01</td>\n",
       "      <td>...</td>\n",
       "      <td>4.672004e-01</td>\n",
       "      <td>1.222927e+03</td>\n",
       "      <td>6.346679e-02</td>\n",
       "      <td>2.757015e+01</td>\n",
       "      <td>1.329266e-01</td>\n",
       "      <td>7.425362e-02</td>\n",
       "      <td>1.116122e+03</td>\n",
       "      <td>2.402109e+00</td>\n",
       "      <td>4.253571e+01</td>\n",
       "      <td>3.079147e-01</td>\n",
       "    </tr>\n",
       "    <tr>\n",
       "      <th>min</th>\n",
       "      <td>0.000000e+00</td>\n",
       "      <td>1.000000e+00</td>\n",
       "      <td>0.000000e+00</td>\n",
       "      <td>0.000000e+00</td>\n",
       "      <td>0.000000e+00</td>\n",
       "      <td>0.000000e+00</td>\n",
       "      <td>0.000000e+00</td>\n",
       "      <td>0.000000e+00</td>\n",
       "      <td>0.000000e+00</td>\n",
       "      <td>1.000000e+00</td>\n",
       "      <td>...</td>\n",
       "      <td>0.000000e+00</td>\n",
       "      <td>0.000000e+00</td>\n",
       "      <td>0.000000e+00</td>\n",
       "      <td>0.000000e+00</td>\n",
       "      <td>0.000000e+00</td>\n",
       "      <td>0.000000e+00</td>\n",
       "      <td>0.000000e+00</td>\n",
       "      <td>0.000000e+00</td>\n",
       "      <td>3.500000e+02</td>\n",
       "      <td>0.000000e+00</td>\n",
       "    </tr>\n",
       "    <tr>\n",
       "      <th>25%</th>\n",
       "      <td>1.537746e+06</td>\n",
       "      <td>4.741378e+05</td>\n",
       "      <td>1.191400e+04</td>\n",
       "      <td>0.000000e+00</td>\n",
       "      <td>0.000000e+00</td>\n",
       "      <td>0.000000e+00</td>\n",
       "      <td>0.000000e+00</td>\n",
       "      <td>0.000000e+00</td>\n",
       "      <td>0.000000e+00</td>\n",
       "      <td>2.300000e+01</td>\n",
       "      <td>...</td>\n",
       "      <td>0.000000e+00</td>\n",
       "      <td>0.000000e+00</td>\n",
       "      <td>0.000000e+00</td>\n",
       "      <td>0.000000e+00</td>\n",
       "      <td>0.000000e+00</td>\n",
       "      <td>0.000000e+00</td>\n",
       "      <td>1.334000e+02</td>\n",
       "      <td>2.000000e+00</td>\n",
       "      <td>1.491000e+03</td>\n",
       "      <td>1.979000e-01</td>\n",
       "    </tr>\n",
       "    <tr>\n",
       "      <th>50%</th>\n",
       "      <td>3.110606e+06</td>\n",
       "      <td>9.430320e+05</td>\n",
       "      <td>2.383700e+04</td>\n",
       "      <td>0.000000e+00</td>\n",
       "      <td>0.000000e+00</td>\n",
       "      <td>8.776000e+01</td>\n",
       "      <td>0.000000e+00</td>\n",
       "      <td>0.000000e+00</td>\n",
       "      <td>0.000000e+00</td>\n",
       "      <td>4.700000e+01</td>\n",
       "      <td>...</td>\n",
       "      <td>0.000000e+00</td>\n",
       "      <td>0.000000e+00</td>\n",
       "      <td>0.000000e+00</td>\n",
       "      <td>0.000000e+00</td>\n",
       "      <td>0.000000e+00</td>\n",
       "      <td>0.000000e+00</td>\n",
       "      <td>5.732000e+02</td>\n",
       "      <td>3.000000e+00</td>\n",
       "      <td>1.500000e+03</td>\n",
       "      <td>4.583000e-01</td>\n",
       "    </tr>\n",
       "    <tr>\n",
       "      <th>75%</th>\n",
       "      <td>4.657295e+06</td>\n",
       "      <td>1.418544e+06</td>\n",
       "      <td>3.580100e+04</td>\n",
       "      <td>0.000000e+00</td>\n",
       "      <td>1.000000e+00</td>\n",
       "      <td>1.884000e+02</td>\n",
       "      <td>1.000000e+00</td>\n",
       "      <td>0.000000e+00</td>\n",
       "      <td>1.000000e+00</td>\n",
       "      <td>7.000000e+01</td>\n",
       "      <td>...</td>\n",
       "      <td>0.000000e+00</td>\n",
       "      <td>0.000000e+00</td>\n",
       "      <td>0.000000e+00</td>\n",
       "      <td>0.000000e+00</td>\n",
       "      <td>0.000000e+00</td>\n",
       "      <td>0.000000e+00</td>\n",
       "      <td>1.808000e+03</td>\n",
       "      <td>5.000000e+00</td>\n",
       "      <td>1.510000e+03</td>\n",
       "      <td>7.407000e-01</td>\n",
       "    </tr>\n",
       "    <tr>\n",
       "      <th>max</th>\n",
       "      <td>6.224522e+06</td>\n",
       "      <td>2.700605e+06</td>\n",
       "      <td>4.773300e+04</td>\n",
       "      <td>2.000000e+01</td>\n",
       "      <td>1.800000e+01</td>\n",
       "      <td>6.384000e+03</td>\n",
       "      <td>6.300000e+01</td>\n",
       "      <td>2.600000e+01</td>\n",
       "      <td>5.900000e+01</td>\n",
       "      <td>1.000000e+02</td>\n",
       "      <td>...</td>\n",
       "      <td>4.100000e+01</td>\n",
       "      <td>4.839000e+04</td>\n",
       "      <td>4.200000e+01</td>\n",
       "      <td>5.286000e+03</td>\n",
       "      <td>6.000000e+00</td>\n",
       "      <td>5.000000e+00</td>\n",
       "      <td>1.730000e+04</td>\n",
       "      <td>7.600000e+01</td>\n",
       "      <td>1.923000e+03</td>\n",
       "      <td>1.000000e+00</td>\n",
       "    </tr>\n",
       "  </tbody>\n",
       "</table>\n",
       "<p>8 rows × 26 columns</p>\n",
       "</div>"
      ],
      "text/plain": [
       "                 Id       groupId       matchId       assists        boosts  \\\n",
       "count  4.357336e+06  4.357336e+06  4.357336e+06  4.357336e+06  4.357336e+06   \n",
       "mean   3.102678e+06  1.024777e+06  2.385539e+04  2.656320e-01  9.636856e-01   \n",
       "std    1.797477e+06  6.967197e+05  1.378227e+04  6.342160e-01  1.560643e+00   \n",
       "min    0.000000e+00  1.000000e+00  0.000000e+00  0.000000e+00  0.000000e+00   \n",
       "25%    1.537746e+06  4.741378e+05  1.191400e+04  0.000000e+00  0.000000e+00   \n",
       "50%    3.110606e+06  9.430320e+05  2.383700e+04  0.000000e+00  0.000000e+00   \n",
       "75%    4.657295e+06  1.418544e+06  3.580100e+04  0.000000e+00  1.000000e+00   \n",
       "max    6.224522e+06  2.700605e+06  4.773300e+04  2.000000e+01  1.800000e+01   \n",
       "\n",
       "        damageDealt         DBNOs  headshotKills         heals     killPlace  \\\n",
       "count  4.357336e+06  4.357336e+06   4.357336e+06  4.357336e+06  4.357336e+06   \n",
       "mean   1.329033e+02  6.901455e-01   2.385866e-01  1.187169e+00  4.703440e+01   \n",
       "std    1.699439e+02  1.191514e+00   6.103033e-01  2.366389e+00  2.732772e+01   \n",
       "min    0.000000e+00  0.000000e+00   0.000000e+00  0.000000e+00  1.000000e+00   \n",
       "25%    0.000000e+00  0.000000e+00   0.000000e+00  0.000000e+00  2.300000e+01   \n",
       "50%    8.776000e+01  0.000000e+00   0.000000e+00  0.000000e+00  4.700000e+01   \n",
       "75%    1.884000e+02  1.000000e+00   0.000000e+00  1.000000e+00  7.000000e+01   \n",
       "max    6.384000e+03  6.300000e+01   2.600000e+01  5.900000e+01  1.000000e+02   \n",
       "\n",
       "           ...            revives  rideDistance     roadKills  swimDistance  \\\n",
       "count      ...       4.357336e+06  4.357336e+06  4.357336e+06  4.357336e+06   \n",
       "mean       ...       1.649345e-01  4.238835e+02  2.557985e-03  4.136261e+00   \n",
       "std        ...       4.672004e-01  1.222927e+03  6.346679e-02  2.757015e+01   \n",
       "min        ...       0.000000e+00  0.000000e+00  0.000000e+00  0.000000e+00   \n",
       "25%        ...       0.000000e+00  0.000000e+00  0.000000e+00  0.000000e+00   \n",
       "50%        ...       0.000000e+00  0.000000e+00  0.000000e+00  0.000000e+00   \n",
       "75%        ...       0.000000e+00  0.000000e+00  0.000000e+00  0.000000e+00   \n",
       "max        ...       4.100000e+01  4.839000e+04  4.200000e+01  5.286000e+03   \n",
       "\n",
       "          teamKills  vehicleDestroys  walkDistance  weaponsAcquired  \\\n",
       "count  4.357336e+06     4.357336e+06  4.357336e+06     4.357336e+06   \n",
       "mean   1.388555e-02     5.146264e-03  1.055122e+03     3.457289e+00   \n",
       "std    1.329266e-01     7.425362e-02  1.116122e+03     2.402109e+00   \n",
       "min    0.000000e+00     0.000000e+00  0.000000e+00     0.000000e+00   \n",
       "25%    0.000000e+00     0.000000e+00  1.334000e+02     2.000000e+00   \n",
       "50%    0.000000e+00     0.000000e+00  5.732000e+02     3.000000e+00   \n",
       "75%    0.000000e+00     0.000000e+00  1.808000e+03     5.000000e+00   \n",
       "max    6.000000e+00     5.000000e+00  1.730000e+04     7.600000e+01   \n",
       "\n",
       "          winPoints  winPlacePerc  \n",
       "count  4.357336e+06  4.357336e+06  \n",
       "mean   1.500504e+03  4.718663e-01  \n",
       "std    4.253571e+01  3.079147e-01  \n",
       "min    3.500000e+02  0.000000e+00  \n",
       "25%    1.491000e+03  1.979000e-01  \n",
       "50%    1.500000e+03  4.583000e-01  \n",
       "75%    1.510000e+03  7.407000e-01  \n",
       "max    1.923000e+03  1.000000e+00  \n",
       "\n",
       "[8 rows x 26 columns]"
      ]
     },
     "execution_count": 11,
     "metadata": {},
     "output_type": "execute_result"
    }
   ],
   "source": [
    "train.describe()"
   ]
  },
  {
   "cell_type": "code",
   "execution_count": 12,
   "metadata": {},
   "outputs": [
    {
     "data": {
      "text/plain": [
       "Id                 4357336\n",
       "groupId            1888732\n",
       "matchId              47734\n",
       "assists                 20\n",
       "boosts                  19\n",
       "damageDealt          31726\n",
       "DBNOs                   40\n",
       "headshotKills           25\n",
       "heals                   50\n",
       "killPlace              100\n",
       "killPoints            1762\n",
       "kills                   44\n",
       "killStreaks             15\n",
       "longestKill          26405\n",
       "maxPlace                99\n",
       "numGroups              100\n",
       "revives                 22\n",
       "rideDistance         33158\n",
       "roadKills               14\n",
       "swimDistance         27652\n",
       "teamKills                7\n",
       "vehicleDestroys          6\n",
       "walkDistance         38048\n",
       "weaponsAcquired         69\n",
       "winPoints             1465\n",
       "winPlacePerc          2949\n",
       "dtype: int64"
      ]
     },
     "execution_count": 12,
     "metadata": {},
     "output_type": "execute_result"
    }
   ],
   "source": [
    "train.apply(lambda x:len(x.unique()))"
   ]
  },
  {
   "cell_type": "code",
   "execution_count": null,
   "metadata": {},
   "outputs": [],
   "source": []
  }
 ],
 "metadata": {
  "kernelspec": {
   "display_name": "Python 3",
   "language": "python",
   "name": "python3"
  },
  "language_info": {
   "codemirror_mode": {
    "name": "ipython",
    "version": 3
   },
   "file_extension": ".py",
   "mimetype": "text/x-python",
   "name": "python",
   "nbconvert_exporter": "python",
   "pygments_lexer": "ipython3",
   "version": "3.6.5"
  }
 },
 "nbformat": 4,
 "nbformat_minor": 2
}
