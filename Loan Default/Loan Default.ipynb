{
 "cells": [
  {
   "cell_type": "code",
   "execution_count": 1,
   "metadata": {},
   "outputs": [],
   "source": [
    "import pandas as pd\n",
    "import numpy as np                     \n",
    "import seaborn as sns                  \n",
    "import matplotlib.pyplot as plt        \n",
    "%matplotlib inline\n",
    "import warnings                        \n",
    "warnings.filterwarnings(\"ignore\")"
   ]
  },
  {
   "cell_type": "code",
   "execution_count": 2,
   "metadata": {},
   "outputs": [],
   "source": [
    "train=pd.read_csv('train.csv')\n",
    "test=pd.read_csv('test.csv')"
   ]
  },
  {
   "cell_type": "code",
   "execution_count": 3,
   "metadata": {},
   "outputs": [],
   "source": [
    "train_original=train.copy()\n",
    "test_original=test.copy()"
   ]
  },
  {
   "cell_type": "code",
   "execution_count": 4,
   "metadata": {},
   "outputs": [
    {
     "name": "stdout",
     "output_type": "stream",
     "text": [
      "<class 'pandas.core.frame.DataFrame'>\n",
      "RangeIndex: 116058 entries, 0 to 116057\n",
      "Data columns (total 29 columns):\n",
      "loan_id                     116058 non-null int64\n",
      "source                      116058 non-null object\n",
      "financial_institution       116058 non-null object\n",
      "interest_rate               116058 non-null float64\n",
      "unpaid_principal_bal        116058 non-null int64\n",
      "loan_term                   116058 non-null int64\n",
      "origination_date            116058 non-null object\n",
      "first_payment_date          116058 non-null object\n",
      "loan_to_value               116058 non-null int64\n",
      "number_of_borrowers         116058 non-null float64\n",
      "debt_to_income_ratio        116058 non-null float64\n",
      "borrower_credit_score       116058 non-null float64\n",
      "loan_purpose                116058 non-null object\n",
      "insurance_percent           116058 non-null float64\n",
      "co-borrower_credit_score    116058 non-null float64\n",
      "insurance_type              116058 non-null float64\n",
      "m1                          116058 non-null int64\n",
      "m2                          116058 non-null int64\n",
      "m3                          116058 non-null int64\n",
      "m4                          116058 non-null int64\n",
      "m5                          116058 non-null int64\n",
      "m6                          116058 non-null int64\n",
      "m7                          116058 non-null int64\n",
      "m8                          116058 non-null int64\n",
      "m9                          116058 non-null int64\n",
      "m10                         116058 non-null int64\n",
      "m11                         116058 non-null int64\n",
      "m12                         116058 non-null int64\n",
      "m13                         116058 non-null int64\n",
      "dtypes: float64(7), int64(17), object(5)\n",
      "memory usage: 25.7+ MB\n"
     ]
    }
   ],
   "source": [
    "train.info()"
   ]
  },
  {
   "cell_type": "code",
   "execution_count": 5,
   "metadata": {},
   "outputs": [
    {
     "name": "stdout",
     "output_type": "stream",
     "text": [
      "<class 'pandas.core.frame.DataFrame'>\n",
      "RangeIndex: 35866 entries, 0 to 35865\n",
      "Data columns (total 28 columns):\n",
      "loan_id                     35866 non-null int64\n",
      "source                      35866 non-null object\n",
      "financial_institution       35866 non-null object\n",
      "interest_rate               35866 non-null float64\n",
      "unpaid_principal_bal        35866 non-null int64\n",
      "loan_term                   35866 non-null int64\n",
      "origination_date            35866 non-null object\n",
      "first_payment_date          35866 non-null object\n",
      "loan_to_value               35866 non-null int64\n",
      "number_of_borrowers         35866 non-null int64\n",
      "debt_to_income_ratio        35866 non-null int64\n",
      "borrower_credit_score       35866 non-null int64\n",
      "loan_purpose                35866 non-null object\n",
      "insurance_percent           35866 non-null int64\n",
      "co-borrower_credit_score    35866 non-null int64\n",
      "insurance_type              35866 non-null int64\n",
      "m1                          35866 non-null int64\n",
      "m2                          35866 non-null int64\n",
      "m3                          35866 non-null int64\n",
      "m4                          35866 non-null int64\n",
      "m5                          35866 non-null int64\n",
      "m6                          35866 non-null int64\n",
      "m7                          35866 non-null int64\n",
      "m8                          35866 non-null int64\n",
      "m9                          35866 non-null int64\n",
      "m10                         35866 non-null int64\n",
      "m11                         35866 non-null int64\n",
      "m12                         35866 non-null int64\n",
      "dtypes: float64(1), int64(22), object(5)\n",
      "memory usage: 7.7+ MB\n"
     ]
    }
   ],
   "source": [
    "test.info()"
   ]
  },
  {
   "cell_type": "code",
   "execution_count": 19,
   "metadata": {},
   "outputs": [],
   "source": [
    "X = train.drop(\"m13\",axis=1)\n",
    "y = train.m13"
   ]
  },
  {
   "cell_type": "code",
   "execution_count": 20,
   "metadata": {},
   "outputs": [],
   "source": [
    "X=pd.get_dummies(X)\n",
    "train=pd.get_dummies(train)\n",
    "test=pd.get_dummies(test)"
   ]
  },
  {
   "cell_type": "code",
   "execution_count": 21,
   "metadata": {},
   "outputs": [],
   "source": [
    "from sklearn.model_selection import train_test_split\n",
    "x_train, x_test, y_train, y_test = train_test_split(X,y, test_size =0.3)"
   ]
  },
  {
   "cell_type": "code",
   "execution_count": 22,
   "metadata": {},
   "outputs": [],
   "source": [
    "from sklearn.linear_model import LogisticRegression\n",
    "from sklearn.metrics import accuracy_score"
   ]
  },
  {
   "cell_type": "code",
   "execution_count": 23,
   "metadata": {},
   "outputs": [
    {
     "data": {
      "text/plain": [
       "LogisticRegression(C=1.0, class_weight=None, dual=False, fit_intercept=True,\n",
       "          intercept_scaling=1, max_iter=100, multi_class='ovr', n_jobs=1,\n",
       "          penalty='l2', random_state=None, solver='liblinear', tol=0.0001,\n",
       "          verbose=0, warm_start=False)"
      ]
     },
     "execution_count": 23,
     "metadata": {},
     "output_type": "execute_result"
    }
   ],
   "source": [
    "model = LogisticRegression()\n",
    "model.fit(x_train, y_train)"
   ]
  },
  {
   "cell_type": "code",
   "execution_count": 24,
   "metadata": {},
   "outputs": [],
   "source": [
    "pred = model.predict(x_test)"
   ]
  },
  {
   "cell_type": "code",
   "execution_count": 25,
   "metadata": {},
   "outputs": [
    {
     "data": {
      "text/plain": [
       "0.9947728186570165"
      ]
     },
     "execution_count": 25,
     "metadata": {},
     "output_type": "execute_result"
    }
   ],
   "source": [
    "accuracy_score(y_test,pred)"
   ]
  },
  {
   "cell_type": "code",
   "execution_count": 26,
   "metadata": {},
   "outputs": [],
   "source": [
    "pred_test = model.predict(test)"
   ]
  },
  {
   "cell_type": "code",
   "execution_count": 27,
   "metadata": {},
   "outputs": [],
   "source": [
    "test['m13'] = pred_test\n",
    "submission = test[['loan_id','m13']]\n",
    "submission.to_csv('loan_default_logistic.csv', index=False)"
   ]
  },
  {
   "cell_type": "code",
   "execution_count": 29,
   "metadata": {},
   "outputs": [
    {
     "data": {
      "text/plain": [
       "0    35866\n",
       "Name: m13, dtype: int64"
      ]
     },
     "execution_count": 29,
     "metadata": {},
     "output_type": "execute_result"
    }
   ],
   "source": [
    "submission[\"m13\"].value_counts()"
   ]
  },
  {
   "cell_type": "code",
   "execution_count": null,
   "metadata": {},
   "outputs": [],
   "source": []
  }
 ],
 "metadata": {
  "kernelspec": {
   "display_name": "Python 3",
   "language": "python",
   "name": "python3"
  },
  "language_info": {
   "codemirror_mode": {
    "name": "ipython",
    "version": 3
   },
   "file_extension": ".py",
   "mimetype": "text/x-python",
   "name": "python",
   "nbconvert_exporter": "python",
   "pygments_lexer": "ipython3",
   "version": "3.6.5"
  }
 },
 "nbformat": 4,
 "nbformat_minor": 2
}
